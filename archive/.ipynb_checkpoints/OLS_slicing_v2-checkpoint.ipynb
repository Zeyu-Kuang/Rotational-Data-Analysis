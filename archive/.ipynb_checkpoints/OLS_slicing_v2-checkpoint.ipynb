{
 "cells": [
  {
   "cell_type": "markdown",
   "metadata": {},
   "source": [
    "# Rotation Data Analysis Using OLS - Slicing method\n",
    "OLS-Slicing method first slice the raw data into several pieces to reduce memory requirement. For each piece, perform OLS on it."
   ]
  },
  {
   "cell_type": "code",
   "execution_count": 78,
   "metadata": {
    "collapsed": true
   },
   "outputs": [],
   "source": [
    "import numpy as np\n",
    "import matplotlib.pyplot as plt\n",
    "import pandas as pd"
   ]
  },
  {
   "cell_type": "markdown",
   "metadata": {},
   "source": [
    "# Reading Raw Data"
   ]
  },
  {
   "cell_type": "code",
   "execution_count": 2,
   "metadata": {
    "collapsed": true
   },
   "outputs": [],
   "source": [
    "def read_data(location_file):\n",
    "    \"\"\"\n",
    "    This function reads the raw data file, whose pathname are stored in the location_file.\n",
    "    Return: DataFrame obejct that contains all the raw data.\n",
    "    \"\"\"\n",
    "    # read locations of data file\n",
    "    with open(location_file) as f:\n",
    "        files = f.readlines()\n",
    "    files = [x.strip() for x in files]  # remove the '\\n' in each line.\n",
    "    \n",
    "    # read and concatenate each data file\n",
    "    data_df = pd.DataFrame()  # for fast reading and storing data\n",
    "    for location in files:\n",
    "        data = pd.read_csv(location, sep='\\t', header=None, index_col=False)\n",
    "        data_df = pd.concat([data_df, data])  # concatenate each data\n",
    "    return data_df"
   ]
  },
  {
   "cell_type": "code",
   "execution_count": 3,
   "metadata": {},
   "outputs": [
    {
     "name": "stdout",
     "output_type": "stream",
     "text": [
      "CPU times: user 1min 58s, sys: 11.7 s, total: 2min 10s\n",
      "Wall time: 2min 7s\n"
     ]
    }
   ],
   "source": [
    "%%time \n",
    "\n",
    "# read run 8 data files\n",
    "run8_location = './Data/File_location_run_8.txt' \n",
    "data_run8 = read_data(run8_location)\n",
    "data_run8[1] = data_run8[1] + 4055.8764  # change time to local sidereal time\n",
    "\n",
    "# read run 9 data files\n",
    "run9_location = './Data/File_location_run_9.txt'\n",
    "data_run9 = read_data(run9_location)\n",
    "data_run9[1] = data_run9[1] + 1131905 + 4055.8764  # change time to local sidereal time\n",
    "\n",
    "# concatenate run 8 and 9\n",
    "data_df = pd.concat([data_run8, data_run9])\n",
    "data_df = data_df.reset_index(drop='True')  # reset index\n",
    "\n",
    "# voltage to \n",
    "factor_v2f = 6.65726 * 1e-8\n",
    "data_df[3] = data_df[3] * factor_v2f\n",
    "data_df.columns = ['index','sidereal_time','phi_R','delta_f']"
   ]
  },
  {
   "cell_type": "code",
   "execution_count": 106,
   "metadata": {
    "collapsed": true
   },
   "outputs": [],
   "source": [
    "# add a new column - 'day'\n",
    "data_df['day'] = data_df['sidereal_time'] / (60 * 60 * 24)"
   ]
  },
  {
   "cell_type": "markdown",
   "metadata": {},
   "source": [
    "## Class *var*\n",
    "Since all these parameters include standard deviation. I created a class to easy handle it."
   ]
  },
  {
   "cell_type": "code",
   "execution_count": 126,
   "metadata": {
    "collapsed": true
   },
   "outputs": [],
   "source": [
    "class var():\n",
    "    \"\"\"\n",
    "    This class is for calculating the addition between variables with standard deviation, sigma.\n",
    "    \"\"\"\n",
    "    def __init__(self, value, sigma):\n",
    "        self.value = value\n",
    "        self.sigma = sigma\n",
    "    def __add__(self, other):\n",
    "        sum_sigma = 1 / (np.sqrt(1 / self.sigma**2 + 1 / other.sigma**2))\n",
    "        sum_value = (self.value / self.sigma**2 + other.value / other.sigma**2) * sum_sigma**2\n",
    "        return var(sum_value, sum_sigma)\n",
    "    def __sub__(self, other):\n",
    "        sub_other = var(-other.value, other.sigma)\n",
    "        return self.__add__(sub_other)"
   ]
  },
  {
   "cell_type": "markdown",
   "metadata": {},
   "source": [
    "# OLS function\n",
    "\\begin{align}\n",
    "\\frac{\\delta f}{f} = A + &S_{2\\omega_R}sin(2\\omega_Rt) + C_{2\\omega_R}cos(2\\omega_Rt)\\\\\n",
    "                       + &S_{2\\omega_R + \\omega_\\oplus t}sin(2\\omega_Rt + \\omega_\\oplus t) + C_{2\\omega_R + \\omega_\\oplus t}cos(2\\omega_Rt + \\omega_\\oplus t)\\\\\n",
    "                       + &S_{2\\omega_R - \\omega_\\oplus t}sin(2\\omega_Rt - \\omega_\\oplus t) + C_{2\\omega_R - \\omega_\\oplus t}cos(2\\omega_Rt - \\omega_\\oplus t)]\\\\\n",
    "                       + &S_{2\\omega_R + 2\\omega_\\oplus t}sin(2\\omega_Rt + 2\\omega_\\oplus t) + C_{2\\omega_R + 2\\omega_\\oplus t}cos(2\\omega_Rt + 2\\omega_\\oplus t)\\\\\n",
    "                       + &S_{2\\omega_R - 2\\omega_\\oplus t}sin(2\\omega_Rt - 2\\omega_\\oplus t) + C_{2\\omega_R - 2\\omega_\\oplus t}cos(2\\omega_Rt - 2\\omega_\\oplus t)\n",
    "\\end{align}"
   ]
  },
  {
   "cell_type": "code",
   "execution_count": 133,
   "metadata": {
    "collapsed": true
   },
   "outputs": [],
   "source": [
    "def OLS(dataset, update=0):\n",
    "    \"\"\"\n",
    "    Given a dataset of signal which should be a numpy array with the form [index, sidereal_time, angle, delta_f], fitting it by equation (stated in OLS section). \n",
    "    Return parameters include [theta, standard deviation, averaged time]\n",
    "    \"\"\"\n",
    "    # initialization\n",
    "    N = dataset[:,0]\n",
    "    t = dataset[:,1]\n",
    "    phi_R = dataset[:,2]\n",
    "    delta_f = dataset[:,3]\n",
    "    \n",
    "    # pre-calculation\n",
    "    w_s = 2 * np.pi / (23*3600 + 56*60 + 4) # sidereal frequency\n",
    "    phi_S = w_s * t  # sidereal phase\n",
    "    \n",
    "    # creating matrix X\n",
    "    X = np.zeros([dataset.shape[0],11])\n",
    "    X[:,0] = 1\n",
    "    X[:,1] = np.sin(2*phi_R)\n",
    "    X[:,2] = np.cos(2*phi_R)\n",
    "    \n",
    "    X[:,3] = np.sin(2*phi_R + phi_S)\n",
    "    X[:,4] = np.cos(2*phi_R + phi_S)\n",
    "    \n",
    "    X[:,5] = np.sin(2*phi_R - phi_S)\n",
    "    X[:,6] = np.cos(2*phi_R - phi_S)\n",
    "    \n",
    "    X[:,7] = np.sin(2*phi_R + 2*phi_S)\n",
    "    X[:,8] = np.cos(2*phi_R + 2*phi_S)\n",
    "    \n",
    "    X[:,9] = np.sin(2*phi_R - 2*phi_S)\n",
    "    X[:,10] = np.cos(2*phi_R - 2*phi_S)\n",
    "    \n",
    "    \n",
    "    # perform OLS\n",
    "    varcov = np.linalg.inv(np.dot(X.T, X))  # inverted inner product of X\n",
    "    beta = np.dot(varcov, np.dot(X.T,delta_f))  # fitting parameters\n",
    "    \n",
    "    res = np.inner(beta.T, X) - delta_f  # residual\n",
    "    dres = np.std(res)  # standard deviation of the residual\n",
    "    \n",
    "    V_beta = dres * dres * varcov  # variance matrix of fitting parameters\n",
    "    sigma_beta = np.sqrt(np.diag(V_beta))  # standard deviation for fitting parameters\n",
    "    \n",
    "    # calculate the mean time for all these parameters\n",
    "    t_mean = np.mean(t)  # average time for the dataset\n",
    "    \n",
    "    # calculate the number of samples inside the dataset\n",
    "    N_sample = np.size(N)\n",
    "    \n",
    "    # packing all parameters in one vector\n",
    "    params = pd.DataFrame([[beta, sigma_beta, t_mean, N_sample]],columns=['beta','sigma','time','Nsamples'])\n",
    "    \n",
    "    # v2 -------------------------\n",
    "    # create var object\n",
    "    varLength = 11\n",
    "    beta_var = [None] * varLength\n",
    "    for i in range(varLength):\n",
    "        beta_var[i] = var(beta[i], sigma[i])\n",
    "    # create dataframe\n",
    "    params_v2 = pd.DataFrame([[beta_var, t_mean]],columns=['beta', 'time'])\n",
    "    \n",
    "    if update == 1:\n",
    "        return params_v2\n",
    "    \n",
    "    return params\n",
    "    "
   ]
  },
  {
   "cell_type": "code",
   "execution_count": 131,
   "metadata": {
    "collapsed": true
   },
   "outputs": [],
   "source": [
    "def select_param(params_df, param):\n",
    "    \"\"\"\n",
    "    Given a params dataframe, select a certain param. Output the result as 2D narray\n",
    "    \"\"\"\n",
    "    param_df = params_df[param]  # choose a parameter\n",
    "    param_na = param_df.values  # change it to narray\n",
    "    param_na = np.array(param_na.tolist())  # change it to 2D narray (tricky part)\n",
    "    \n",
    "    return param_na"
   ]
  },
  {
   "cell_type": "markdown",
   "metadata": {},
   "source": [
    "# Slicing\n",
    "Slice the file into pieces. Do OLS for each piece. Visualize them in the end."
   ]
  },
  {
   "cell_type": "code",
   "execution_count": 132,
   "metadata": {},
   "outputs": [
    {
     "name": "stdout",
     "output_type": "stream",
     "text": [
      "[ -4.90231150e-09   3.59208949e-14   3.11411133e-15   7.72522409e-15\n",
      "  -8.10554811e-15  -1.44010944e-14  -8.30940291e-15  -3.76083485e-15\n",
      "  -3.94898553e-14   5.08490998e-15  -2.79949229e-14]\n"
     ]
    },
    {
     "ename": "KeyboardInterrupt",
     "evalue": "",
     "output_type": "error",
     "traceback": [
      "\u001b[1;31m---------------------------------------------------------------------------\u001b[0m",
      "\u001b[1;31mKeyboardInterrupt\u001b[0m                         Traceback (most recent call last)",
      "\u001b[1;32m<ipython-input-132-18704f512e02>\u001b[0m in \u001b[0;36m<module>\u001b[1;34m()\u001b[0m\n\u001b[1;32m----> 1\u001b[1;33m \u001b[0mget_ipython\u001b[0m\u001b[1;33m(\u001b[0m\u001b[1;33m)\u001b[0m\u001b[1;33m.\u001b[0m\u001b[0mrun_cell_magic\u001b[0m\u001b[1;33m(\u001b[0m\u001b[1;34m'time'\u001b[0m\u001b[1;33m,\u001b[0m \u001b[1;34m''\u001b[0m\u001b[1;33m,\u001b[0m \u001b[1;34m\"\\n# initialization for slicing\\nSlices = 30\\nN_data = data_df.shape[0]\\nN_piece = int(N_data / Slices)\\nparams = pd.DataFrame()  # for storing params in each sub data\\n\\nfor i in range(Slices):\\n    # slicing each sub_data\\n    start = i * N_piece\\n    stop = (i+1) * N_piece\\n    next_stop = (i+2) * N_piece\\n    if next_stop > N_data:\\n        sub_data_df = data_df[start:]\\n    else:\\n        sub_data_df = data_df[start:stop]\\n        \\n    # do OLS on each sub_data\\n    sub_data = sub_data_df.values  # change to numpy array\\n    sub_param = OLS(sub_data)\\n    params = pd.concat((params, sub_param))\\n    \\nparams.reset_index(drop='True')\"\u001b[0m\u001b[1;33m)\u001b[0m\u001b[1;33m\u001b[0m\u001b[0m\n\u001b[0m",
      "\u001b[1;32m/home/ubuntu1/anaconda3/lib/python3.5/site-packages/IPython/core/interactiveshell.py\u001b[0m in \u001b[0;36mrun_cell_magic\u001b[1;34m(self, magic_name, line, cell)\u001b[0m\n\u001b[0;32m   2118\u001b[0m             \u001b[0mmagic_arg_s\u001b[0m \u001b[1;33m=\u001b[0m \u001b[0mself\u001b[0m\u001b[1;33m.\u001b[0m\u001b[0mvar_expand\u001b[0m\u001b[1;33m(\u001b[0m\u001b[0mline\u001b[0m\u001b[1;33m,\u001b[0m \u001b[0mstack_depth\u001b[0m\u001b[1;33m)\u001b[0m\u001b[1;33m\u001b[0m\u001b[0m\n\u001b[0;32m   2119\u001b[0m             \u001b[1;32mwith\u001b[0m \u001b[0mself\u001b[0m\u001b[1;33m.\u001b[0m\u001b[0mbuiltin_trap\u001b[0m\u001b[1;33m:\u001b[0m\u001b[1;33m\u001b[0m\u001b[0m\n\u001b[1;32m-> 2120\u001b[1;33m                 \u001b[0mresult\u001b[0m \u001b[1;33m=\u001b[0m \u001b[0mfn\u001b[0m\u001b[1;33m(\u001b[0m\u001b[0mmagic_arg_s\u001b[0m\u001b[1;33m,\u001b[0m \u001b[0mcell\u001b[0m\u001b[1;33m)\u001b[0m\u001b[1;33m\u001b[0m\u001b[0m\n\u001b[0m\u001b[0;32m   2121\u001b[0m             \u001b[1;32mreturn\u001b[0m \u001b[0mresult\u001b[0m\u001b[1;33m\u001b[0m\u001b[0m\n\u001b[0;32m   2122\u001b[0m \u001b[1;33m\u001b[0m\u001b[0m\n",
      "\u001b[1;32m<decorator-gen-60>\u001b[0m in \u001b[0;36mtime\u001b[1;34m(self, line, cell, local_ns)\u001b[0m\n",
      "\u001b[1;32m/home/ubuntu1/anaconda3/lib/python3.5/site-packages/IPython/core/magic.py\u001b[0m in \u001b[0;36m<lambda>\u001b[1;34m(f, *a, **k)\u001b[0m\n\u001b[0;32m    191\u001b[0m     \u001b[1;31m# but it's overkill for just that one bit of state.\u001b[0m\u001b[1;33m\u001b[0m\u001b[1;33m\u001b[0m\u001b[0m\n\u001b[0;32m    192\u001b[0m     \u001b[1;32mdef\u001b[0m \u001b[0mmagic_deco\u001b[0m\u001b[1;33m(\u001b[0m\u001b[0marg\u001b[0m\u001b[1;33m)\u001b[0m\u001b[1;33m:\u001b[0m\u001b[1;33m\u001b[0m\u001b[0m\n\u001b[1;32m--> 193\u001b[1;33m         \u001b[0mcall\u001b[0m \u001b[1;33m=\u001b[0m \u001b[1;32mlambda\u001b[0m \u001b[0mf\u001b[0m\u001b[1;33m,\u001b[0m \u001b[1;33m*\u001b[0m\u001b[0ma\u001b[0m\u001b[1;33m,\u001b[0m \u001b[1;33m**\u001b[0m\u001b[0mk\u001b[0m\u001b[1;33m:\u001b[0m \u001b[0mf\u001b[0m\u001b[1;33m(\u001b[0m\u001b[1;33m*\u001b[0m\u001b[0ma\u001b[0m\u001b[1;33m,\u001b[0m \u001b[1;33m**\u001b[0m\u001b[0mk\u001b[0m\u001b[1;33m)\u001b[0m\u001b[1;33m\u001b[0m\u001b[0m\n\u001b[0m\u001b[0;32m    194\u001b[0m \u001b[1;33m\u001b[0m\u001b[0m\n\u001b[0;32m    195\u001b[0m         \u001b[1;32mif\u001b[0m \u001b[0mcallable\u001b[0m\u001b[1;33m(\u001b[0m\u001b[0marg\u001b[0m\u001b[1;33m)\u001b[0m\u001b[1;33m:\u001b[0m\u001b[1;33m\u001b[0m\u001b[0m\n",
      "\u001b[1;32m/home/ubuntu1/anaconda3/lib/python3.5/site-packages/IPython/core/magics/execution.py\u001b[0m in \u001b[0;36mtime\u001b[1;34m(self, line, cell, local_ns)\u001b[0m\n\u001b[0;32m   1175\u001b[0m         \u001b[1;32melse\u001b[0m\u001b[1;33m:\u001b[0m\u001b[1;33m\u001b[0m\u001b[0m\n\u001b[0;32m   1176\u001b[0m             \u001b[0mst\u001b[0m \u001b[1;33m=\u001b[0m \u001b[0mclock2\u001b[0m\u001b[1;33m(\u001b[0m\u001b[1;33m)\u001b[0m\u001b[1;33m\u001b[0m\u001b[0m\n\u001b[1;32m-> 1177\u001b[1;33m             \u001b[0mexec\u001b[0m\u001b[1;33m(\u001b[0m\u001b[0mcode\u001b[0m\u001b[1;33m,\u001b[0m \u001b[0mglob\u001b[0m\u001b[1;33m,\u001b[0m \u001b[0mlocal_ns\u001b[0m\u001b[1;33m)\u001b[0m\u001b[1;33m\u001b[0m\u001b[0m\n\u001b[0m\u001b[0;32m   1178\u001b[0m             \u001b[0mend\u001b[0m \u001b[1;33m=\u001b[0m \u001b[0mclock2\u001b[0m\u001b[1;33m(\u001b[0m\u001b[1;33m)\u001b[0m\u001b[1;33m\u001b[0m\u001b[0m\n\u001b[0;32m   1179\u001b[0m             \u001b[0mout\u001b[0m \u001b[1;33m=\u001b[0m \u001b[1;32mNone\u001b[0m\u001b[1;33m\u001b[0m\u001b[0m\n",
      "\u001b[1;32m<timed exec>\u001b[0m in \u001b[0;36m<module>\u001b[1;34m()\u001b[0m\n",
      "\u001b[1;32m<ipython-input-130-7c3a6cd9e42c>\u001b[0m in \u001b[0;36mOLS\u001b[1;34m(dataset)\u001b[0m\n\u001b[0;32m     26\u001b[0m     \u001b[0mX\u001b[0m\u001b[1;33m[\u001b[0m\u001b[1;33m:\u001b[0m\u001b[1;33m,\u001b[0m\u001b[1;36m6\u001b[0m\u001b[1;33m]\u001b[0m \u001b[1;33m=\u001b[0m \u001b[0mnp\u001b[0m\u001b[1;33m.\u001b[0m\u001b[0mcos\u001b[0m\u001b[1;33m(\u001b[0m\u001b[1;36m2\u001b[0m\u001b[1;33m*\u001b[0m\u001b[0mphi_R\u001b[0m \u001b[1;33m-\u001b[0m \u001b[0mphi_S\u001b[0m\u001b[1;33m)\u001b[0m\u001b[1;33m\u001b[0m\u001b[0m\n\u001b[0;32m     27\u001b[0m \u001b[1;33m\u001b[0m\u001b[0m\n\u001b[1;32m---> 28\u001b[1;33m     \u001b[0mX\u001b[0m\u001b[1;33m[\u001b[0m\u001b[1;33m:\u001b[0m\u001b[1;33m,\u001b[0m\u001b[1;36m7\u001b[0m\u001b[1;33m]\u001b[0m \u001b[1;33m=\u001b[0m \u001b[0mnp\u001b[0m\u001b[1;33m.\u001b[0m\u001b[0msin\u001b[0m\u001b[1;33m(\u001b[0m\u001b[1;36m2\u001b[0m\u001b[1;33m*\u001b[0m\u001b[0mphi_R\u001b[0m \u001b[1;33m+\u001b[0m \u001b[1;36m2\u001b[0m\u001b[1;33m*\u001b[0m\u001b[0mphi_S\u001b[0m\u001b[1;33m)\u001b[0m\u001b[1;33m\u001b[0m\u001b[0m\n\u001b[0m\u001b[0;32m     29\u001b[0m     \u001b[0mX\u001b[0m\u001b[1;33m[\u001b[0m\u001b[1;33m:\u001b[0m\u001b[1;33m,\u001b[0m\u001b[1;36m8\u001b[0m\u001b[1;33m]\u001b[0m \u001b[1;33m=\u001b[0m \u001b[0mnp\u001b[0m\u001b[1;33m.\u001b[0m\u001b[0mcos\u001b[0m\u001b[1;33m(\u001b[0m\u001b[1;36m2\u001b[0m\u001b[1;33m*\u001b[0m\u001b[0mphi_R\u001b[0m \u001b[1;33m+\u001b[0m \u001b[1;36m2\u001b[0m\u001b[1;33m*\u001b[0m\u001b[0mphi_S\u001b[0m\u001b[1;33m)\u001b[0m\u001b[1;33m\u001b[0m\u001b[0m\n\u001b[0;32m     30\u001b[0m \u001b[1;33m\u001b[0m\u001b[0m\n",
      "\u001b[1;31mKeyboardInterrupt\u001b[0m: "
     ]
    }
   ],
   "source": [
    "%%time\n",
    "\n",
    "# initialization for slicing\n",
    "Slices = 30\n",
    "N_data = data_df.shape[0]\n",
    "N_piece = int(N_data / Slices)\n",
    "params = pd.DataFrame()  # for storing params in each sub data\n",
    "\n",
    "for i in range(Slices):\n",
    "    # slicing each sub_data\n",
    "    start = i * N_piece\n",
    "    stop = (i+1) * N_piece\n",
    "    next_stop = (i+2) * N_piece\n",
    "    if next_stop > N_data:\n",
    "        sub_data_df = data_df[start:]\n",
    "    else:\n",
    "        sub_data_df = data_df[start:stop]\n",
    "        \n",
    "    # do OLS on each sub_data\n",
    "    sub_data = sub_data_df.values  # change to numpy array\n",
    "    sub_param = OLS(sub_data, 1)\n",
    "    params = pd.concat((params, sub_param))\n",
    "    \n",
    "params.reset_index(drop='True')"
   ]
  },
  {
   "cell_type": "markdown",
   "metadata": {
    "collapsed": true
   },
   "source": [
    "# Visualizing Data"
   ]
  },
  {
   "cell_type": "markdown",
   "metadata": {},
   "source": [
    "## initialize selected parameter\n",
    "|Parameter|A|$S_{2\\omega_R}$|$C_{2\\omega_R}$|$S_{2\\omega_R+\\omega_\\oplus}$|$C_{2\\omega_R+\\omega_\\oplus}$|$S_{2\\omega_R-\\omega_\\oplus}$|$C_{2\\omega_R-\\omega_\\oplus}$|$S_{2\\omega_R+2\\omega_\\oplus}$|$C_{2\\omega_R+2\\omega_\\oplus}$|$S_{2\\omega_R-2\\omega_\\oplus}$|$C_{2\\omega_R-2\\omega_\\oplus}$|\n",
    "|:-:|\n",
    "|*index_vi*|0|1|2|3|4|5|6|7|8|9|10|"
   ]
  },
  {
   "cell_type": "code",
   "execution_count": 111,
   "metadata": {},
   "outputs": [],
   "source": [
    "# add a new column - 'day'\n",
    "params['day'] = params['time'] / (60 * 60 * 24)"
   ]
  },
  {
   "cell_type": "code",
   "execution_count": 114,
   "metadata": {},
   "outputs": [],
   "source": [
    "label_dict = {'0': 'A', '1': '$S_{2\\omega_R}$', '2': '$C_{2\\omega_R}$',\n",
    "             '3': '$S_{2\\omega_R+\\omega_\\oplus}$', '4': '$C_{2\\omega_R+\\omega_\\oplus}$',\n",
    "             '5': '$S_{2\\omega_R-\\omega_\\oplus}$', '6': '$C_{2\\omega_R-\\omega_\\oplus}$',\n",
    "             '7': '$S_{2\\omega_R+2\\omega_\\oplus}$', '8': '$C_{2\\omega_R+2\\omega_\\oplus}$',\n",
    "             '9': '$S_{2\\omega_R-2\\omega_\\oplus}$', '10': '$C_{2\\omega_R-2\\omega_\\oplus}$'}\n",
    "index_vi = 4  # selecting a parameter to visualize\n",
    "\n",
    "day = select_param(params, 'day')\n",
    "beta = select_param(params, 'beta')\n",
    "sigma = select_param(params, 'sigma')\n",
    "\n",
    "beta_vi = beta[:, index_vi]\n",
    "sigma_vi = sigma[:, index_vi]"
   ]
  },
  {
   "cell_type": "markdown",
   "metadata": {},
   "source": [
    "## Plotting"
   ]
  },
  {
   "cell_type": "code",
   "execution_count": 116,
   "metadata": {},
   "outputs": [
    {
     "data": {
      "image/png": "[encoded data removed]",
      "text/plain": [
       "<matplotlib.figure.Figure at 0x7fcdf0ac0e48>"
      ]
     },
     "metadata": {},
     "output_type": "display_data"
    }
   ],
   "source": [
    "fig, ax = plt.subplots(figsize=(15,8))\n",
    "ax.errorbar(day, beta_vi, yerr=sigma_vi, ecolor='g', fmt='o')\n",
    "ax.set_xlabel('Day', fontsize=24)\n",
    "ax.set_ylabel(label_dict[str(index_vi)] + '(HZ)', fontsize=24)\n",
    "ax.tick_params(labelsize=24)\n",
    "plt.show()\n",
    "\n",
    "# fomattor size needs to be changed"
   ]
  },
  {
   "cell_type": "markdown",
   "metadata": {},
   "source": [
    "# Add all parameters"
   ]
  },
  {
   "cell_type": "code",
   "execution_count": null,
   "metadata": {
    "collapsed": true
   },
   "outputs": [],
   "source": []
  }
 ],
 "metadata": {
  "anaconda-cloud": {},
  "kernelspec": {
   "display_name": "Python [default]",
   "language": "python",
   "name": "python3"
  },
  "language_info": {
   "codemirror_mode": {
    "name": "ipython",
    "version": 3
   },
   "file_extension": ".py",
   "mimetype": "text/x-python",
   "name": "python",
   "nbconvert_exporter": "python",
   "pygments_lexer": "ipython3",
   "version": "3.5.2"
  },
  "latex_envs": {
   "LaTeX_envs_menu_present": true,
   "autocomplete": true,
   "bibliofile": "biblio.bib",
   "cite_by": "apalike",
   "current_citInitial": 1,
   "eqLabelWithNumbers": true,
   "eqNumInitial": 1,
   "hotkeys": {
    "equation": "Ctrl-E",
    "itemize": "Ctrl-I"
   },
   "labels_anchors": false,
   "latex_user_defs": false,
   "report_style_numbering": false,
   "user_envs_cfg": false
  }
 },
 "nbformat": 4,
 "nbformat_minor": 2
}

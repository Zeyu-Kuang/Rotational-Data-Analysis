{
 "cells": [
  {
   "cell_type": "markdown",
   "metadata": {},
   "source": [
    "# Data Averaging Program\n",
    "Averageing program is created for OLS method. \n",
    "\n",
    "Because in OLS, we need more memory for initializing a fitting model matrix. Averaging data is required. This program averages the data and saves it."
   ]
  },
  {
   "cell_type": "markdown",
   "metadata": {},
   "source": [
    "## Average Function\n",
    "Because the dataset is too big. We need to average the data within each rotation.\n",
    "\n",
    "**Shortcomings**:\n",
    "\n",
    "However the average function itself takes a lot of time.\n",
    "\n",
    "New way worth trying: unwrap --> do average"
   ]
  },
  {
   "cell_type": "code",
   "execution_count": 297,
   "metadata": {
    "collapsed": true
   },
   "outputs": [],
   "source": [
    "def average(dataset, N_aver):\n",
    "    \"\"\"\n",
    "    Function used to average the data within each rotation.\n",
    "    Input standard: dataframe [index time phi_R delta_V]\n",
    "    \"\"\"\n",
    "    N_length = dataset.shape[0]\n",
    "    start = 0\n",
    "    \n",
    "    arr_tot = pd.DataFrame()\n",
    "    \n",
    "    for i in range(1, N_length):\n",
    "        delta_angle = dataset['phi_R'] [i]- dataset['phi_R'] [i-1]\n",
    "        if delta_angle < -4:\n",
    "            # within each rotation\n",
    "            stop = i\n",
    "            arr = dataset[start:stop]\n",
    "            N_arr = arr.shape[0]\n",
    "            for j in range(0, N_arr, N_aver):\n",
    "                if j + N_aver - 1 < N_arr:\n",
    "                    arr_mean = arr[j:j+N_aver].mean()\n",
    "                    arr_append = arr_mean.to_frame().T\n",
    "                else:\n",
    "                    arr_append = arr[j:]\n",
    "                arr_tot = pd.concat([arr_tot, arr_append])\n",
    "            start = i\n",
    "    \n",
    "    arr_tot = arr_tot.reset_index(drop='True')\n",
    "    return arr_tot\n"
   ]
  },
  {
   "cell_type": "code",
   "execution_count": null,
   "metadata": {
    "collapsed": true
   },
   "outputs": [],
   "source": []
  }
 ],
 "metadata": {
  "anaconda-cloud": {},
  "kernelspec": {
   "display_name": "Python [default]",
   "language": "python",
   "name": "python3"
  },
  "language_info": {
   "codemirror_mode": {
    "name": "ipython",
    "version": 3
   },
   "file_extension": ".py",
   "mimetype": "text/x-python",
   "name": "python",
   "nbconvert_exporter": "python",
   "pygments_lexer": "ipython3",
   "version": "3.5.2"
  },
  "latex_envs": {
   "LaTeX_envs_menu_present": true,
   "autocomplete": true,
   "bibliofile": "biblio.bib",
   "cite_by": "apalike",
   "current_citInitial": 1,
   "eqLabelWithNumbers": true,
   "eqNumInitial": 1,
   "hotkeys": {
    "equation": "Ctrl-E",
    "itemize": "Ctrl-I"
   },
   "labels_anchors": false,
   "latex_user_defs": false,
   "report_style_numbering": false,
   "user_envs_cfg": false
  }
 },
 "nbformat": 4,
 "nbformat_minor": 2
}

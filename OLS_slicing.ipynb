{
 "cells": [
  {
   "cell_type": "markdown",
   "metadata": {},
   "source": [
    "# Rotation Data Analysis Using OLS - Slicing method\n",
    "OLS-Slicing method first slice the raw data into several pieces to reduce memory requirement. Then perform OLS on each piece."
   ]
  },
  {
   "cell_type": "code",
   "execution_count": 1,
   "metadata": {
    "collapsed": true
   },
   "outputs": [],
   "source": [
    "from tools.ols import *\n",
    "from matplotlib.ticker import ScalarFormatter"
   ]
  },
  {
   "cell_type": "markdown",
   "metadata": {},
   "source": [
    "# Reading Raw Data\n",
    "Reading data method is the same as DLS"
   ]
  },
  {
   "cell_type": "markdown",
   "metadata": {},
   "source": [
    "# Slicing dataset\n",
    "Slice the file into pieces. Do OLS in each piece. Visualize them in the end."
   ]
  },
  {
   "cell_type": "code",
   "execution_count": 23,
   "metadata": {},
   "outputs": [
    {
     "name": "stdout",
     "output_type": "stream",
     "text": [
      "CPU times: user 1min 57s, sys: 12.3 s, total: 2min 10s\n",
      "Wall time: 2min 5s\n"
     ]
    }
   ],
   "source": [
    "%%time \n",
    "\n",
    "# read run 8 data files\n",
    "data_df = quick_read(11)\n",
    "\n",
    "# name columns and add a new column - 'day'\n",
    "data_df.columns = ['index','sidereal_time','phi_R','delta_f']"
   ]
  },
  {
   "cell_type": "markdown",
   "metadata": {},
   "source": [
    "# Slicing dataset\n",
    "Slice the file into pieces, given the sliced number *slices*. In *ols_slicing* function, *ols* is called to fit every frequency."
   ]
  },
  {
   "cell_type": "code",
   "execution_count": 24,
   "metadata": {},
   "outputs": [
    {
     "name": "stdout",
     "output_type": "stream",
     "text": [
      "CPU times: user 1min 15s, sys: 2.93 s, total: 1min 18s\n",
      "Wall time: 1min 13s\n"
     ]
    }
   ],
   "source": [
    "%%time\n",
    "slices = 65\n",
    "params = ols_slicing(data_df, slices)  # get OLS fitting parameters"
   ]
  },
  {
   "cell_type": "markdown",
   "metadata": {
    "collapsed": true
   },
   "source": [
    "# Visualizing Data"
   ]
  },
  {
   "cell_type": "markdown",
   "metadata": {},
   "source": [
    "## Parameter table\n",
    "|Parameter|A|$S_{2\\omega_R}$|$C_{2\\omega_R}$|$S_{2\\omega_R+\\omega_\\oplus}$|$C_{2\\omega_R+\\omega_\\oplus}$|$S_{2\\omega_R-\\omega_\\oplus}$|$C_{2\\omega_R-\\omega_\\oplus}$|$S_{2\\omega_R+2\\omega_\\oplus}$|$C_{2\\omega_R+2\\omega_\\oplus}$|$S_{2\\omega_R-2\\omega_\\oplus}$|$C_{2\\omega_R-2\\omega_\\oplus}$|\n",
    "|:-:|:-:|:-:|:-:|:-:|:-:|:-:|:-:|:-:|:-:|:-:|:-:|\n",
    "|$\\beta$|$\\beta_0$|$\\beta_1$|$\\beta_2$|$\\beta_3$|$\\beta_4$|$\\beta_5$|$\\beta_6$|$\\beta_7$|$\\beta_8$|$\\beta_9$|$\\beta_{10}$|\n",
    "|*index_vi*|0|1|2|3|4|5|6|7|8|9|10|\n",
    "As defined above, $\\beta$ is just another name for parameter $S_{...}$ or $C_{...}$. \n",
    "\n",
    "$\\beta$ is used in fitting, $S_{...}$ and $C_{...}$ are used in physics related equation."
   ]
  },
  {
   "cell_type": "code",
   "execution_count": 25,
   "metadata": {
    "collapsed": true
   },
   "outputs": [],
   "source": [
    "index_vi = 2  # selecting a parameter to visualize\n",
    "\n",
    "label_dict = {'0': 'A', '1': '$S_{2\\omega_R}$', '2': '$C_{2\\omega_R}$',\n",
    "             '3': '$S_{2\\omega_R+\\omega_\\oplus}$', '4': '$C_{2\\omega_R+\\omega_\\oplus}$',\n",
    "             '5': '$S_{2\\omega_R-\\omega_\\oplus}$', '6': '$C_{2\\omega_R-\\omega_\\oplus}$',\n",
    "             '7': '$S_{2\\omega_R+2\\omega_\\oplus}$', '8': '$C_{2\\omega_R+2\\omega_\\oplus}$',\n",
    "             '9': '$S_{2\\omega_R-2\\omega_\\oplus}$', '10': '$C_{2\\omega_R-2\\omega_\\oplus}$'}  # for making ylabel\n",
    "\n",
    "# add a new column - 'day'\n",
    "params['day'] = params['time'] / (60 * 60 * 24)\n",
    "\n",
    "# extracting fitting parameters, beta, and their standard deviations, sigma \n",
    "day = select_param(params, 'day') \n",
    "beta = select_param(params, 'beta')\n",
    "sigma = select_param(params, 'sigma')\n",
    "\n",
    "# selecting one parameter to visualize\n",
    "beta_vi = beta[:, index_vi]\n",
    "sigma_vi = sigma[:, index_vi]"
   ]
  },
  {
   "cell_type": "markdown",
   "metadata": {},
   "source": [
    "# Writing selected parameters"
   ]
  },
  {
   "cell_type": "code",
   "execution_count": 26,
   "metadata": {
    "collapsed": true
   },
   "outputs": [],
   "source": [
    "# use DataFrame to write\n",
    "filename = './Data/OLS_slicing/OLS_slicing_para_index' + str(index_vi) + '.txt'\n",
    "df_write = pd.DataFrame({'para': beta_vi, 'std': sigma_vi, 'day': day})  # construct from a dictionary\n",
    "df_write.to_csv(filename, index_label='Index')"
   ]
  },
  {
   "cell_type": "markdown",
   "metadata": {},
   "source": [
    "## Plotting\n",
    "Visualize the selected parameter for each slices (subset). 'Days' on the horizontal axis is the solar day starts from the origin of the local sidereal frame.\n",
    "\n",
    "The data is not starting from Day 0. This is because:\n",
    "1. Time is averaged during the OLS fitting process\n",
    "2. Our experiment is not starting from the origin of the local sidereal frame.\n",
    "\n",
    "**Note: **You can change the *index_vi* value to see different parameters."
   ]
  },
  {
   "cell_type": "code",
   "execution_count": 27,
   "metadata": {},
   "outputs": [
    {
     "data": {
      "image/png": "[encoded data removed]",
      "text/plain": [
       "<matplotlib.figure.Figure at 0x7fb5cc2e15f8>"
      ]
     },
     "metadata": {},
     "output_type": "display_data"
    }
   ],
   "source": [
    "fig, ax = plt.subplots(figsize=(15,8))\n",
    "ax.errorbar(day, beta_vi, yerr=sigma_vi, ecolor='g', fmt='o')\n",
    "ax.set_xlabel('Days', fontsize=24)\n",
    "ax.set_xlim(left=0)  # starts from Day 0\n",
    "ax.set_ylabel(label_dict[str(index_vi)] + '(HZ)', fontsize=24)  # use created ylabel dictionary for display\n",
    "ax.tick_params(labelsize=24)\n",
    "\n",
    "# changing the format of the offset\n",
    "ax.yaxis.set_major_formatter(ScalarFormatter(useMathText=True))  \n",
    "t = ax.yaxis.get_offset_text()\n",
    "t.set_size(24)\n",
    "\n",
    "plt.show()"
   ]
  },
  {
   "cell_type": "markdown",
   "metadata": {},
   "source": [
    "# Adding vars together"
   ]
  },
  {
   "cell_type": "code",
   "execution_count": 28,
   "metadata": {
    "collapsed": true
   },
   "outputs": [],
   "source": [
    "param_sum = add_params(params)  # for each parameter, sum over sliced subsets"
   ]
  },
  {
   "cell_type": "code",
   "execution_count": 29,
   "metadata": {
    "collapsed": true
   },
   "outputs": [],
   "source": [
    "[c_T_Q, c_T_X, c_T_Y, c_T_Z, c_T_M, c_T_u] = cal_co(param_sum)\n",
    "\n",
    "# for display\n",
    "c_T_Q_value = str(round(c_T_Q.value,17))\n",
    "c_T_Q_sigma = str(round(c_T_Q.sigma,17))\n",
    "c_T_X_value = str(round(c_T_X.value,17))\n",
    "c_T_X_sigma = str(round(c_T_X.sigma,17))\n",
    "c_T_Y_value = str(round(c_T_Y.value,17))\n",
    "c_T_Y_sigma = str(round(c_T_Y.sigma,17))\n",
    "c_T_Z_value = str(round(c_T_Z.value,17))\n",
    "c_T_Z_sigma = str(round(c_T_Z.sigma,17))\n",
    "c_T_M_value = str(round(c_T_M.value,17))\n",
    "c_T_M_sigma = str(round(c_T_M.sigma,17))\n",
    "c_T_u_value = str(round(c_T_u.value,17))\n",
    "c_T_u_sigma = str(round(c_T_u.sigma,17))"
   ]
  },
  {
   "cell_type": "markdown",
   "metadata": {
    "variables": {
     "c_T_M_sigma": "9.08e-15",
     "c_T_M_value": "2.8e-16",
     "c_T_Q_sigma": "1.4e-15",
     "c_T_Q_value": "1.2e-16",
     "c_T_X_sigma": "7.4e-16",
     "c_T_X_value": "2e-17",
     "c_T_Y_sigma": "7.4e-16",
     "c_T_Y_value": "-6e-17",
     "c_T_Z_sigma": "8.6e-16",
     "c_T_Z_value": "-1.3e-16",
     "c_T_u_sigma": "8.6e-16",
     "c_T_u_value": "3e-17"
    }
   },
   "source": [
    "| EMS coefficient | result |\n",
    "| :- | :- |\n",
    "| $c^T_Q$ | {{c_T_Q_value}}$\\pm${{c_T_Q_sigma}} |\n",
    "| $c^T_Y$ | {{c_T_X_value}}$\\pm${{c_T_X_sigma}} |\n",
    "| $c^T_X$ | {{c_T_Y_value}}$\\pm${{c_T_Y_sigma}} |\n",
    "| $c^T_Z$ | {{c_T_Z_value}}$\\pm${{c_T_Z_sigma}} |\n",
    "| $c^T_M$ | {{c_T_M_value}}$\\pm${{c_T_M_sigma}} |\n",
    "| $c^T_\\_$ | {{c_T_u_value}}$\\pm${{c_T_u_sigma}} |\n",
    "\n"
   ]
  },
  {
   "cell_type": "code",
   "execution_count": null,
   "metadata": {
    "collapsed": true
   },
   "outputs": [],
   "source": []
  }
 ],
 "metadata": {
  "anaconda-cloud": {},
  "kernelspec": {
   "display_name": "Python [default]",
   "language": "python",
   "name": "python3"
  },
  "language_info": {
   "codemirror_mode": {
    "name": "ipython",
    "version": 3
   },
   "file_extension": ".py",
   "mimetype": "text/x-python",
   "name": "python",
   "nbconvert_exporter": "python",
   "pygments_lexer": "ipython3",
   "version": "3.5.2"
  },
  "latex_envs": {
   "LaTeX_envs_menu_present": true,
   "autocomplete": false,
   "bibliofile": "biblio.bib",
   "cite_by": "apalike",
   "current_citInitial": 1,
   "eqLabelWithNumbers": true,
   "eqNumInitial": 1,
   "hotkeys": {
    "equation": "Ctrl-E",
    "itemize": "Ctrl-I"
   },
   "labels_anchors": false,
   "latex_user_defs": false,
   "report_style_numbering": false,
   "user_envs_cfg": false
  }
 },
 "nbformat": 4,
 "nbformat_minor": 2
}

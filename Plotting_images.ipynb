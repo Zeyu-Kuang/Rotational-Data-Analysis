{
 "cells": [
  {
   "cell_type": "markdown",
   "metadata": {},
   "source": [
    "# Plotting Images\n",
    "Producing quality images for reports."
   ]
  },
  {
   "cell_type": "code",
   "execution_count": 3,
   "metadata": {
    "collapsed": true
   },
   "outputs": [],
   "source": [
    "import pandas as pd\n",
    "import matplotlib.pyplot as plt\n",
    "import numpy as np\n",
    "from matplotlib.ticker import ScalarFormatter\n",
    "import matplotlib.gridspec as gridspec"
   ]
  },
  {
   "cell_type": "markdown",
   "metadata": {
    "collapsed": true
   },
   "source": [
    "## Parameter vs. frequency\n",
    "Visualize quaduatic parameters of the 2nd stage of DLS method over different frequency for run 8&9, 10, and 11."
   ]
  },
  {
   "cell_type": "markdown",
   "metadata": {},
   "source": [
    "### Initialization"
   ]
  },
  {
   "cell_type": "code",
   "execution_count": 187,
   "metadata": {
    "collapsed": true
   },
   "outputs": [],
   "source": [
    "first_pathname = './Data/DLS-w_s/'\n",
    "last_pathname = {'run8&9': 'run8&9'}\n",
    "\n",
    "pathname_dict = {'run8&9': './Data/DLS-w_s/run8&9/w_s_list_2/',\n",
    "                 'run10': './Data/DLS-w_s/run10/w_s_list_2/',\n",
    "                 'run11': './Data/DLS-w_s/run11/w_s_list_2/',}\n",
    "\n",
    "co_value_filename = 'SME_coefficients_value.txt'\n",
    "co_sigma_filename = 'SME_coefficients_sigma.txt'\n",
    "par_value_filename = 'DLS2_parameters_value.txt'\n",
    "par_sigma_filename = 'DLS2_parameters_sigma.txt'\n",
    "w_s_list_filename = 'w_s_list.txt'"
   ]
  },
  {
   "cell_type": "markdown",
   "metadata": {},
   "source": [
    "### Parameter index table\n",
    "|Coefficient|$S_{C,0}$|$S_{S,\\omega_s}$|$S_{C,\\omega_s}$|$S_{S,2\\omega_s}$|$S_{C,2\\omega_s}$|$C_{C,0}$|$C_{S,\\omega_s}$|$C_{C,\\omega_s}$|$C_{S,2\\omega_s}$|$C_{C,2\\omega_s}$|\n",
    "|:-:|\n",
    "|*index*|0|1|2|3|4|5|6|7|8|9|"
   ]
  },
  {
   "cell_type": "code",
   "execution_count": 179,
   "metadata": {
    "collapsed": true
   },
   "outputs": [],
   "source": [
    "index = 3\n",
    "par_dict = {'0': 'S_c_0', '1': 'S_s_ws','2': 'S_c_ws','3': 'S_s_2ws','4': 'S_c_2ws',\n",
    "           '5': 'C_c_0', '6': 'C_s_ws','7': 'C_c_ws','8': 'C_s_2ws','9': 'C_c_2ws'}  # for selecting coefficient in another dictionary\n",
    "par_index = par_dict[str(index)]\n",
    "ylabel_dict = {'0': '$S_{c,0}$', '1': '$S_{s,\\omega}$','2': '$S_{c,\\omega}$','3': '$S_{s,2\\omega}$','4': '$S_{c,2\\omega}$',\n",
    "           '5': '$C_{c,0}$', '6': '$C_{s,\\omega}$','7': '$C_{c,\\omega}$','8': '$C_{s,2\\omega}$','9': '$C_{c,2\\omega}$'}  # for displaying on y label\n",
    "par_ylabel = ylabel_dict[str(index)]"
   ]
  },
  {
   "cell_type": "markdown",
   "metadata": {},
   "source": [
    "### Reading files"
   ]
  },
  {
   "cell_type": "code",
   "execution_count": 180,
   "metadata": {
    "collapsed": true
   },
   "outputs": [],
   "source": [
    "# for storing parameters for all runs\n",
    "par_value_dict = {}\n",
    "par_sigma_dict = {}\n",
    "\n",
    "for name, pathname in pathname_dict.items():\n",
    "\n",
    "    # read parameters\n",
    "    par_values_df = pd.read_csv(pathname + par_value_filename, index_col='Index')\n",
    "    par_sigmas_df = pd.read_csv(pathname + par_sigma_filename, index_col='Index')\n",
    "    \n",
    "    # choose one parameter\n",
    "    par_value = par_values_df[par_index].values\n",
    "    par_sigma = par_sigmas_df[par_index].values\n",
    "    \n",
    "    # store the parameter in dictionary\n",
    "    par_value_dict[name] = par_value\n",
    "    par_sigma_dict[name] = par_sigma\n",
    "    \n",
    "    # same for every run\n",
    "    w_s_list_df = pd.read_csv(pathname + w_s_list_filename, index_col='Index')\n",
    "    w_s_list = w_s_list_df.values\n",
    "    N_w = len(w_s_list)\n",
    "\n"
   ]
  },
  {
   "cell_type": "markdown",
   "metadata": {},
   "source": [
    "### Plotting"
   ]
  },
  {
   "cell_type": "markdown",
   "metadata": {},
   "source": [
    "#### Together"
   ]
  },
  {
   "cell_type": "code",
   "execution_count": 181,
   "metadata": {},
   "outputs": [
    {
     "data": {
      "image/png": "[encoded data removed]",
      "text/plain": [
       "<matplotlib.figure.Figure at 0x7f04efcd5518>"
      ]
     },
     "metadata": {},
     "output_type": "display_data"
    }
   ],
   "source": [
    "fig, ax = plt.subplots(figsize=(9,5))\n",
    "ax.errorbar(w_s_list, par_value_dict['run8&9'], yerr=par_sigma_dict['run8&9'], fmt='o', label='run 8&9', color='r')\n",
    "ax.errorbar(w_s_list, par_value_dict['run10'], yerr=par_sigma_dict['run10'], fmt='o', label='run 10', color='y')\n",
    "ax.errorbar(w_s_list, par_value_dict['run11'], yerr=par_sigma_dict['run11'], fmt='o', label='run 11', color='b')\n",
    "ax.set_xlabel(r'$\\omega / \\omega_s$', fontsize=20)\n",
    "ax.set_ylabel(par_ylabel, fontsize=20)\n",
    "ax.tick_params(labelsize=20)\n",
    "ax.set_xlim([0,10])\n",
    "\n",
    "# changing the format of the offset\n",
    "ax.yaxis.set_major_formatter(ScalarFormatter(useMathText=True))  \n",
    "t = ax.yaxis.get_offset_text()\n",
    "t.set_size(20)\n",
    "\n",
    "# add line\n",
    "ax.axvline(1, linestyle='--', color='k')  # verticle line for w = w_s\n",
    "#ax.axhline(0, linestyle='--', color='k')  # horizontal line for 0\n",
    "\n",
    "# set legend\n",
    "lgd = ax.legend(fontsize=20, bbox_to_anchor=(1.05, 1), loc=2, borderaxespad=0.)\n",
    "\n",
    "plt.xticks(np.arange(0, 11, 1.0))\n",
    "plt.tight_layout()\n",
    "plt.grid() \n",
    "\n",
    "\n",
    "# save figure\n",
    "fig.savefig('./Images/compareRuns.eps', fmt='eps', bbox_extra_artists=(lgd,), bbox_inches='tight')\n",
    "fig.savefig('./Images/compareRuns.png', fmt='png', bbox_extra_artists=(lgd,), bbox_inches='tight')\n",
    "\n",
    "plt.show()"
   ]
  },
  {
   "cell_type": "markdown",
   "metadata": {
    "collapsed": true
   },
   "source": [
    "#### Seperate"
   ]
  },
  {
   "cell_type": "code",
   "execution_count": 182,
   "metadata": {},
   "outputs": [
    {
     "data": {
      "image/png": "[encoded data removed]",
      "text/plain": [
       "<matplotlib.figure.Figure at 0x7f04f03fc978>"
      ]
     },
     "metadata": {},
     "output_type": "display_data"
    }
   ],
   "source": [
    "lgd = [None] * 3\n",
    "\n",
    "fig, ax = plt.subplots(3,1,figsize=(9,6), sharex=True)\n",
    "\n",
    "# specified properties\n",
    "ax[0].errorbar(w_s_list, par_value_dict['run8&9'], yerr=par_sigma_dict['run8&9'], fmt='o', label='run 8&9', color='r')\n",
    "ax[0].set_ylim([-3e-14, 3e-14])\n",
    "ax[1].set_ylim([-3e-14, 3e-14])\n",
    "ax[2].set_ylim([-1.2e-15, 1.2e-15])\n",
    "\n",
    "ax[1].errorbar(w_s_list, par_value_dict['run10'], yerr=par_sigma_dict['run10'], fmt='o', label='run 10', color='y')\n",
    "ax[2].errorbar(w_s_list, par_value_dict['run11'], yerr=par_sigma_dict['run11'], fmt='o', label='run 11', color='b')\n",
    "ax[2].set_xlabel(r'$\\omega / \\omega_s$', fontsize=20)\n",
    "\n",
    "# general properties\n",
    "for i in range(3):\n",
    "    ax[i].set_ylabel(par_ylabel, fontsize=20)\n",
    "    ax[i].tick_params(labelsize=20)\n",
    "    ax[i].set_xlim([0,10])\n",
    "    ax[i].axhline(0, linestyle='--', color='k')  # horizontal line for 0\n",
    "    lgd[i] = ax[i].legend(fontsize=20, bbox_to_anchor=(1.05, 1), loc=2, borderaxespad=0.)\n",
    "    \n",
    "    # changing the format of the offset\n",
    "    ax[i].yaxis.set_major_formatter(ScalarFormatter(useMathText=True))  \n",
    "    t = ax[i].yaxis.get_offset_text()\n",
    "    t.set_size(20)\n",
    "\n",
    "plt.xticks(np.arange(0, 11, 1.0))\n",
    "plt.tight_layout()\n",
    "\n",
    "# save figure\n",
    "fig.savefig('./Images/compareRunsSubplots.eps', fmt='eps', bbox_extra_artists=lgd, bbox_inches='tight')\n",
    "fig.savefig('./Images/compareRunsSubplots.png', fmt='png', bbox_extra_artists=lgd, bbox_inches='tight')\n",
    "\n",
    "plt.show()"
   ]
  },
  {
   "cell_type": "markdown",
   "metadata": {},
   "source": [
    "#### Combine two together"
   ]
  },
  {
   "cell_type": "code",
   "execution_count": 3,
   "metadata": {},
   "outputs": [
    {
     "ename": "NameError",
     "evalue": "name 'plt' is not defined",
     "output_type": "error",
     "traceback": [
      "\u001b[1;31m---------------------------------------------------------------------------\u001b[0m",
      "\u001b[1;31mNameError\u001b[0m                                 Traceback (most recent call last)",
      "\u001b[1;32m<ipython-input-3-933ab2ebc4c5>\u001b[0m in \u001b[0;36m<module>\u001b[1;34m()\u001b[0m\n\u001b[1;32m----> 1\u001b[1;33m \u001b[0mf\u001b[0m \u001b[1;33m=\u001b[0m \u001b[0mplt\u001b[0m\u001b[1;33m.\u001b[0m\u001b[0mfigure\u001b[0m\u001b[1;33m(\u001b[0m\u001b[0mfigsize\u001b[0m\u001b[1;33m=\u001b[0m\u001b[1;33m(\u001b[0m\u001b[1;36m9\u001b[0m\u001b[1;33m,\u001b[0m\u001b[1;36m6\u001b[0m\u001b[1;33m)\u001b[0m\u001b[1;33m)\u001b[0m\u001b[1;33m\u001b[0m\u001b[0m\n\u001b[0m\u001b[0;32m      2\u001b[0m \u001b[0mgs\u001b[0m \u001b[1;33m=\u001b[0m \u001b[0mgridspec\u001b[0m\u001b[1;33m.\u001b[0m\u001b[0mGridSpec\u001b[0m\u001b[1;33m(\u001b[0m\u001b[1;36m6\u001b[0m\u001b[1;33m,\u001b[0m \u001b[1;36m1\u001b[0m\u001b[1;33m)\u001b[0m\u001b[1;33m\u001b[0m\u001b[0m\n\u001b[0;32m      3\u001b[0m \u001b[0max1\u001b[0m \u001b[1;33m=\u001b[0m \u001b[0mplt\u001b[0m\u001b[1;33m.\u001b[0m\u001b[0msubplot\u001b[0m\u001b[1;33m(\u001b[0m\u001b[0mgs\u001b[0m\u001b[1;33m[\u001b[0m\u001b[1;33m:\u001b[0m\u001b[1;36m4\u001b[0m\u001b[1;33m,\u001b[0m \u001b[1;36m0\u001b[0m\u001b[1;33m]\u001b[0m\u001b[1;33m)\u001b[0m\u001b[1;33m\u001b[0m\u001b[0m\n\u001b[0;32m      4\u001b[0m \u001b[0max2\u001b[0m \u001b[1;33m=\u001b[0m \u001b[0mplt\u001b[0m\u001b[1;33m.\u001b[0m\u001b[0msubplot\u001b[0m\u001b[1;33m(\u001b[0m\u001b[0mgs\u001b[0m\u001b[1;33m[\u001b[0m\u001b[1;36m4\u001b[0m\u001b[1;33m:\u001b[0m\u001b[1;36m6\u001b[0m\u001b[1;33m,\u001b[0m\u001b[1;36m0\u001b[0m\u001b[1;33m]\u001b[0m\u001b[1;33m)\u001b[0m\u001b[1;33m\u001b[0m\u001b[0m\n\u001b[0;32m      5\u001b[0m \u001b[1;33m\u001b[0m\u001b[0m\n",
      "\u001b[1;31mNameError\u001b[0m: name 'plt' is not defined"
     ]
    }
   ],
   "source": [
    "f = plt.figure(figsize=(9,6))\n",
    "gs = gridspec.GridSpec(6, 1)\n",
    "ax1 = plt.subplot(gs[:4, 0])\n",
    "ax2 = plt.subplot(gs[4:6,0])\n",
    "\n",
    "# plot ax1\n",
    "ax1.errorbar(w_s_list, par_value_dict['run8&9'], yerr=par_sigma_dict['run8&9'], fmt='o', label='run 8&9', color='r')\n",
    "ax1.errorbar(w_s_list, par_value_dict['run10'], yerr=par_sigma_dict['run10'], fmt='o', label='run 10', color='y')\n",
    "ax1.errorbar(w_s_list, par_value_dict['run11'], yerr=par_sigma_dict['run11'], fmt='o', label='run 11', color='b')\n",
    "ax1.set_ylabel(par_ylabel, fontsize=20)\n",
    "ax1.tick_params(labelsize=20)\n",
    "ax1.set_xlim([0,10])\n",
    "# changing the format of the offset\n",
    "ax1.yaxis.set_major_formatter(ScalarFormatter(useMathText=True))  \n",
    "t = ax1.yaxis.get_offset_text()\n",
    "t.set_size(20)\n",
    "# add line\n",
    "ax1.axvline(1, linestyle='--', color='k')  # verticle line for w = w_s\n",
    "#ax.axhline(0, linestyle='--', color='k')  # horizontal line for 0\n",
    "lgd1 = ax1.legend(fontsize=20, bbox_to_anchor=(1.05, 1), loc=2, borderaxespad=0.)  # set legend\n",
    "ax1.set_xticks(np.arange(0, 11, 1.0))\n",
    "plt.tight_layout()\n",
    "ax1.grid() \n",
    "ax1.set_xticklabels([])\n",
    "\n",
    "# plot ax2\n",
    "ax2.errorbar(w_s_list, par_value_dict['run11'], yerr=par_sigma_dict['run11'], fmt='o', label='run 11', color='b')\n",
    "ax2.set_xlabel(r'$\\omega / \\omega_s$', fontsize=20)\n",
    "ax2.set_ylabel(par_ylabel, fontsize=20)\n",
    "ax2.tick_params(labelsize=20)\n",
    "ax2.set_xlim([0,10])\n",
    "ax2.axhline(0, linestyle='--', color='k')  # horizontal line for 0\n",
    "lgd2 = ax2.legend(fontsize=20, bbox_to_anchor=(1.05, 1), loc=2, borderaxespad=0.)\n",
    "# changing the format of the offset\n",
    "ax2.yaxis.set_major_formatter(ScalarFormatter(useMathText=True))  \n",
    "t = ax2.yaxis.get_offset_text()\n",
    "t.set_size(20)\n",
    "ax2.set_xticks(np.arange(0, 11, 1.0))\n",
    "\n",
    "\n",
    "# save figure\n",
    "f.savefig('./Images/compareRuns.eps', fmt='eps', bbox_extra_artists=[lgd1, lgd2], bbox_inches='tight')\n",
    "f.savefig('./Images/compareRuns.png', fmt='png', bbox_extra_artists=[lgd1, lgd2], bbox_inches='tight')\n",
    "\n",
    "plt.show()"
   ]
  },
  {
   "cell_type": "markdown",
   "metadata": {},
   "source": [
    "## DLS1 parameter\n",
    "for run 11"
   ]
  },
  {
   "cell_type": "markdown",
   "metadata": {},
   "source": [
    "### Initalization"
   ]
  },
  {
   "cell_type": "code",
   "execution_count": 4,
   "metadata": {},
   "outputs": [],
   "source": [
    "# reading DLS1 data (python)\n",
    "location_py = './Data/DLS1/run11/N_r_1000/DLS1_data.txt'\n",
    "params_df = pd.read_csv(location_py)\n",
    "# obtainging parameters\n",
    "t_m = params_df['time']\n",
    "# choose beta 3, 4 and sigma 3, 4\n",
    "beta_3 = params_df['beta_3']\n",
    "beta_4 = params_df['beta_4']\n",
    "sigma_beta_3 = params_df['sigma_3']\n",
    "sigma_beta_4 = params_df['sigma_4']"
   ]
  },
  {
   "cell_type": "code",
   "execution_count": 9,
   "metadata": {
    "scrolled": false
   },
   "outputs": [
    {
     "data": {
      "image/png": "[encoded data removed]",
      "text/plain": [
       "<matplotlib.figure.Figure at 0x7f560d884e80>"
      ]
     },
     "metadata": {},
     "output_type": "display_data"
    }
   ],
   "source": [
    "# visualize beta 3 and 4\n",
    "day = t_m / 60 / 60 / 24\n",
    "plt.rcParams['axes.formatter.limits']=(-6,6)  # set the limit for the y axis offset\n",
    "\n",
    "# create figure\n",
    "fig = plt.figure(figsize= (5,7))\n",
    "ax1 = plt.subplot2grid((5, 4), (0, 0), colspan=4, rowspan=3)\n",
    "ax3 = plt.subplot2grid((5, 4), (3, 0), colspan=4, rowspan=1)\n",
    "\n",
    "\n",
    "# generating each subplot\n",
    "ax1.plot(day, beta_3, ',')\n",
    "#ax1.plot(day, beta_4, ',', label='$C(t)$')\n",
    "ax1.set_ylim([-1.2e-13,1.2e-13])\n",
    "ax1.set_ylabel('$S(t_s)$', fontsize=20)\n",
    "ax1.tick_params(labelsize=20)\n",
    "ax1.set_xticklabels([])\n",
    "#ax1.legend(fontsize=20)\n",
    "# changing the format of the offset\n",
    "ax1.yaxis.set_major_formatter(ScalarFormatter(useMathText=True))  \n",
    "t = ax1.yaxis.get_offset_text()\n",
    "t.set_size(20)\n",
    "\n",
    "ax3.semilogy(day, sigma_beta_3, ',')\n",
    "ax3.set_xlabel('Day', fontsize=20)\n",
    "ax3.set_ylabel(r'$\\sigma$', fontsize=20)\n",
    "ax3.tick_params(labelsize=20)\n",
    "\n",
    "\n",
    "\n",
    "plt.savefig('Images/DLS1_result.png', formate='png',\n",
    "            bbox_inches='tight')\n",
    "plt.savefig('Images/DLS1_result.eps', formate='eps',bbox_inches='tight')\n",
    "\n",
    "plt.show()"
   ]
  },
  {
   "cell_type": "markdown",
   "metadata": {},
   "source": [
    "## Optimzation Images\n",
    "plotting the sigma over N_r for run 8&9 and run 10."
   ]
  },
  {
   "cell_type": "markdown",
   "metadata": {},
   "source": [
    "### Initialization"
   ]
  },
  {
   "cell_type": "code",
   "execution_count": 10,
   "metadata": {
    "collapsed": true
   },
   "outputs": [],
   "source": [
    "index = 4\n",
    "co_dict = {'0': 'c_T_Q', '1': 'c_T_X','2': 'c_T_Y','3': 'c_T_Z','4': 'c_T_M','5': 'c_T_u'}  # for selecting coefficient in another dictionary\n",
    "co_index = co_dict[str(index)]\n",
    "ylabel_dict = {'0': '$c^T_Q$', '1': '$c^T_X$','2': '$c^T_Y$','3': '$c^T_Z$','4': '$c^T_M$','5': '$c^T_\\_$'}  # for displaying on y label\n",
    "co_ylabel = ylabel_dict[str(index)]\n",
    "\n",
    "# for storing the data from two runs\n",
    "co_value = {}\n",
    "co_sigma = {}\n",
    "rot_list = {}\n",
    "\n",
    "# creating location dictionary\n",
    "location_dict = {'run8&9': './Data/DLS_Optimization/Archive/run8&9/', 'run11': './Data/DLS_Optimization/Archive/run11/'}"
   ]
  },
  {
   "cell_type": "markdown",
   "metadata": {},
   "source": [
    "### Reading Data"
   ]
  },
  {
   "cell_type": "code",
   "execution_count": 11,
   "metadata": {
    "collapsed": true
   },
   "outputs": [],
   "source": [
    "for key, value in location_dict.items():\n",
    "\n",
    "    # initialization location\n",
    "    location = value\n",
    "    params_filename = 'parameters.txt'\n",
    "    values_filename = 'EMScoefficientValues.txt'\n",
    "    sigmas_filename = 'EMScoefficientSigmas.txt'\n",
    "\n",
    "    # read parameters\n",
    "    params_df = pd.read_csv(location + params_filename, index_col='Index')\n",
    "    rot_list[key] = params_df['N_r']\n",
    "    T = params_df['Time (s)']\n",
    "\n",
    "    # read value and sigmas as dictionary\n",
    "    values_df = pd.read_csv(location + values_filename, index_col = 'Index')\n",
    "    sigmas_df = pd.read_csv(location + sigmas_filename, index_col = 'Index')\n",
    "\n",
    "    # number of samples\n",
    "    N = len(rot_list)\n",
    "\n",
    "    # reading \n",
    "    co_value[key] = values_df[co_index].values\n",
    "    co_sigma[key] = sigmas_df[co_index].values"
   ]
  },
  {
   "cell_type": "markdown",
   "metadata": {},
   "source": [
    "### Plotting"
   ]
  },
  {
   "cell_type": "code",
   "execution_count": 25,
   "metadata": {},
   "outputs": [
    {
     "data": {
      "image/png": "[encoded data removed]",
      "text/plain": [
       "<matplotlib.figure.Figure at 0x7f560d44fbe0>"
      ]
     },
     "metadata": {},
     "output_type": "display_data"
    }
   ],
   "source": [
    "fig = plt.figure(figsize= (9,3.5))\n",
    "ax1 = plt.subplot2grid((4, 8), (0, 0), colspan=3, rowspan=3)\n",
    "ax2 = plt.subplot2grid((4, 8), (0, 4), colspan=3, rowspan=3)\n",
    "ax3 = plt.subplot2grid((4, 8), (3, 0), colspan=3, rowspan=1)\n",
    "ax4 = plt.subplot2grid((4, 8), (3, 4), colspan=3, rowspan=1)\n",
    "\n",
    "# f, ((ax1, ax2), (ax3, ax4)) = plt.subplots(2, 2, figsize = (15,15), sharex=True)  # creating the figure object\n",
    "\n",
    "\n",
    "# generating each subplot\n",
    "ax1.set_xscale(\"log\", nonposx='clip')\n",
    "ax1.errorbar(rot_list['run8&9'], co_value['run8&9'], yerr=co_sigma['run8&9'], fmt='o', color='r', label='run 8&9')\n",
    "ax1.axhline(0, linestyle='--',color='black')\n",
    "ldg1 = ax1.legend(fontsize=18, loc=3, bbox_to_anchor=(0.38, 0.92))\n",
    "ax1.set_ylabel(co_ylabel, fontsize=18)\n",
    "ax1.tick_params(labelsize=18)\n",
    "ax1.set_xlim(left=1)\n",
    "ax1.yaxis.set_major_formatter(ScalarFormatter(useMathText=True))  # changing the format of the offset\n",
    "t = ax1.yaxis.get_offset_text()\n",
    "t.set_size(18)\n",
    "ax1.spines['top'].set_visible(False)  # remove frame\n",
    "ax1.spines['right'].set_visible(False)\n",
    "ax1.spines['bottom'].set_visible(False)\n",
    "ax1.tick_params(\n",
    "    axis='x',          # changes apply to the x-axis\n",
    "    which='both',      # both major and minor ticks are affected\n",
    "    bottom='off',      # ticks along the bottom edge are off\n",
    "    top='off',         # ticks along the top edge are off\n",
    "    labelbottom='off') # labels along the bottom edge are off\n",
    "\n",
    "\n",
    "ax2.set_xscale(\"log\", nonposx='clip')\n",
    "ax2.errorbar(rot_list['run11'], co_value['run11'], yerr=co_sigma['run11'], fmt='o', color='b', label='run 11')\n",
    "ldg2 = ax2.axhline(0, linestyle='--',color='black')\n",
    "ax2.legend(fontsize=18, loc=3, bbox_to_anchor=(0.38, 0.92))\n",
    "#ax2.set_ylabel(co_ylabel, fontsize=18)\n",
    "ax2.tick_params(labelsize=18)\n",
    "ax2.set_xlim(left=1)\n",
    "ax2.yaxis.set_major_formatter(ScalarFormatter(useMathText=True))  # changing the format of the offset\n",
    "t = ax2.yaxis.get_offset_text()\n",
    "t.set_size(18)\n",
    "ax2.spines['top'].set_visible(False)  # remove frame\n",
    "ax2.spines['right'].set_visible(False)\n",
    "ax2.spines['bottom'].set_visible(False)\n",
    "ax2.tick_params(\n",
    "    axis='x',          # changes apply to the x-axis\n",
    "    which='both',      # both major and minor ticks are affected\n",
    "    bottom='off',      # ticks along the bottom edge are off\n",
    "    top='off',         # ticks along the top edge are off\n",
    "    labelbottom='off') # labels along the bottom edge are off\n",
    "\n",
    "\n",
    "ax3.semilogx(rot_list['run8&9'], co_sigma['run8&9'], '-o', color='k')\n",
    "ax3.set_xlabel('$N_r$', fontsize=18)\n",
    "ax3.set_ylabel('$\\sigma$('+co_ylabel+')', fontsize=18)\n",
    "ax3.set_xlim(left=1)\n",
    "ax3.set_ylim([0,8e-15])\n",
    "ax3.tick_params(labelsize=18)\n",
    "ax3.yaxis.set_major_formatter(ScalarFormatter(useMathText=True))  # changing the format of the offset\n",
    "t = ax3.yaxis.get_offset_text()\n",
    "t.set_size(18)\n",
    "ax3.spines['top'].set_visible(False)\n",
    "ax3.spines['right'].set_visible(False)\n",
    "\n",
    "ax4.semilogx(rot_list['run11'], co_sigma['run11'], '-o', color='k')\n",
    "ax4.set_xlabel('$N_r$', fontsize=18)\n",
    "#ax4.set_ylabel('$\\sigma$('+co_ylabel+')', fontsize=18)\n",
    "ax4.set_xlim(left=1)\n",
    "ax4.set_ylim([0,4.5e-16])\n",
    "ax4.tick_params(labelsize=18)\n",
    "ax4.yaxis.set_major_formatter(ScalarFormatter(useMathText=True))  # changing the format of the offset\n",
    "t = ax4.yaxis.get_offset_text()\n",
    "t.set_size(18)\n",
    "ax4.spines['top'].set_visible(False)\n",
    "ax4.spines['right'].set_visible(False)\n",
    "\n",
    "# save figure\n",
    "#fig.savefig('./Images/compareRuns.eps', fmt='eps', bbox_extra_artists=[lgd1, lgd2], bbox_inches='tight')\n",
    "#fig.savefig('./Images/compareRuns.png', fmt='png', bbox_extra_artists=[lgd1, lgd2], bbox_inches='tight')\n",
    "\n",
    "fig.savefig('./Images/Optimization.eps', fmt='eps', bbox_inches='tight')\n",
    "fig.savefig('./Images/Optimization.png', fmt='png', bbox_inches='tight')\n",
    "\n",
    "plt.show()"
   ]
  },
  {
   "cell_type": "code",
   "execution_count": null,
   "metadata": {
    "collapsed": true
   },
   "outputs": [],
   "source": []
  },
  {
   "cell_type": "code",
   "execution_count": null,
   "metadata": {
    "collapsed": true
   },
   "outputs": [],
   "source": []
  }
 ],
 "metadata": {
  "anaconda-cloud": {},
  "kernelspec": {
   "display_name": "Python [default]",
   "language": "python",
   "name": "python3"
  },
  "language_info": {
   "codemirror_mode": {
    "name": "ipython",
    "version": 3
   },
   "file_extension": ".py",
   "mimetype": "text/x-python",
   "name": "python",
   "nbconvert_exporter": "python",
   "pygments_lexer": "ipython3",
   "version": "3.5.2"
  },
  "latex_envs": {
   "LaTeX_envs_menu_present": true,
   "autocomplete": true,
   "bibliofile": "biblio.bib",
   "cite_by": "apalike",
   "current_citInitial": 1,
   "eqLabelWithNumbers": true,
   "eqNumInitial": 1,
   "hotkeys": {
    "equation": "Ctrl-E",
    "itemize": "Ctrl-I"
   },
   "labels_anchors": false,
   "latex_user_defs": false,
   "report_style_numbering": false,
   "user_envs_cfg": false
  }
 },
 "nbformat": 4,
 "nbformat_minor": 2
}

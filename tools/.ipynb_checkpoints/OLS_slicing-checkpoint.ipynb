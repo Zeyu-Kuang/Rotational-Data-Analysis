{
 "cells": [
  {
   "cell_type": "markdown",
   "metadata": {},
   "source": [
    "# Rotation Data Analysis Using OLS - Slicing method\n",
    "OLS-Slicing method first slice the raw data into several pieces to reduce memory requirement. Then perform OLS on each piece."
   ]
  },
  {
   "cell_type": "code",
   "execution_count": 1,
   "metadata": {
    "collapsed": true
   },
   "outputs": [],
   "source": [
    "import numpy as np\n",
    "import matplotlib.pyplot as plt\n",
    "import pandas as pd\n",
    "from matplotlib.ticker import ScalarFormatter"
   ]
  },
  {
   "cell_type": "markdown",
   "metadata": {},
   "source": [
    "# Reading Raw Data\n",
    "Reading data method is the same as DLS"
   ]
  },
  {
   "cell_type": "code",
   "execution_count": 2,
   "metadata": {
    "collapsed": true
   },
   "outputs": [],
   "source": [
    "def read_data(location_file, local_time, rotation_frequency):\n",
    "    \"\"\"\n",
    "    This function reads the raw data file, whose pathname are stored in the location_file.\n",
    "    Return: DataFrame obejct that contains all the raw data.\n",
    "    local_time (s) should be added to the time tag so that it starts from the local sidereal frame. \n",
    "    \"\"\"\n",
    "    # read locations of data file\n",
    "    with open(location_file) as f:\n",
    "        files = f.readlines()\n",
    "    files = [x.strip() for x in files]  # remove the '\\n' in each line.\n",
    "    \n",
    "    # read and concatenate each data file\n",
    "    data_df = pd.DataFrame()  # for fast reading and storing data\n",
    "    for location in files:\n",
    "        data = pd.read_csv(location, sep='\\t', header=None, index_col=False)\n",
    "        data_df = pd.concat([data_df, data])  # concatenate each data\n",
    "    \n",
    "    # change time to local sidereal time\n",
    "    data_df[1] = data_df[1] + local_time  \n",
    "    \n",
    "    # change voltage to fractional frequency [unitless]\n",
    "    factor_v2f = 6.65726 * 1e-8  # calibration factor when rotation frequency is 360\n",
    "    data_df[3] = data_df[3] * factor_v2f * rotation_frequency / 360\n",
    "    \n",
    "    return data_df"
   ]
  },
  {
   "cell_type": "markdown",
   "metadata": {},
   "source": [
    "# OLS function\n",
    "Ordinary Least Square(OLS) method uses the most simple regression method: Linear Least Square Regression. See DLS for the explanation of it.\n",
    "\n",
    "In this script, we use OLS to fit part of the frequency components. They are shown below:\n",
    "\n",
    "\\begin{align*}\n",
    "\\frac{\\delta f}{f} = A + &S_{2\\omega_R}sin(2\\omega_Rt) + C_{2\\omega_R}cos(2\\omega_Rt)\\\\\n",
    "                       + &S_{2\\omega_R + \\omega_\\oplus t}sin(2\\omega_Rt + \\omega_\\oplus t) + C_{2\\omega_R + \\omega_\\oplus t}cos(2\\omega_Rt + \\omega_\\oplus t)\\\\\n",
    "                       + &S_{2\\omega_R - \\omega_\\oplus t}sin(2\\omega_Rt - \\omega_\\oplus t) + C_{2\\omega_R - \\omega_\\oplus t}cos(2\\omega_Rt - \\omega_\\oplus t)]\\\\\n",
    "                       + &S_{2\\omega_R + 2\\omega_\\oplus t}sin(2\\omega_Rt + 2\\omega_\\oplus t) + C_{2\\omega_R + 2\\omega_\\oplus t}cos(2\\omega_Rt + 2\\omega_\\oplus t)\\\\\n",
    "                       + &S_{2\\omega_R - 2\\omega_\\oplus t}sin(2\\omega_Rt - 2\\omega_\\oplus t) + C_{2\\omega_R - 2\\omega_\\oplus t}cos(2\\omega_Rt - 2\\omega_\\oplus t)\n",
    "\\end{align*}\n",
    "\n",
    "For simplicity, we express it as:\n",
    "\n",
    "\\begin{equation}\n",
    "Y = \\beta_0 + \\beta_1X_1 + \\beta_2X_2 + \\beta_3X_3\\ ...\n",
    "\\end{equation}\n",
    "\n",
    "\n",
    "*Output / Input requires the same as demodulate function in script DLS*"
   ]
  },
  {
   "cell_type": "code",
   "execution_count": 4,
   "metadata": {
    "collapsed": true
   },
   "outputs": [],
   "source": [
    "def OLS(dataset, update=0):\n",
    "    \"\"\"\n",
    "    Given a dataset of signal which should be a numpy array with the form [index, sidereal_time, angle, delta_f], fitting it by equation (stated in OLS section). \n",
    "    Return parameters include [theta, standard deviation, averaged time]\n",
    "    \"\"\"\n",
    "    # initialization\n",
    "    N = dataset[:,0]\n",
    "    t = dataset[:,1]\n",
    "    phi_R = dataset[:,2]\n",
    "    delta_f = dataset[:,3]\n",
    "    \n",
    "    # pre-calculation\n",
    "    w_s = 2 * np.pi / (23*3600 + 56*60 + 4) # sidereal frequency\n",
    "    phi_S = w_s * t  # sidereal phase\n",
    "    \n",
    "    # creating matrix X\n",
    "    X = np.zeros([dataset.shape[0],11])\n",
    "    X[:,0] = 1\n",
    "    X[:,1] = np.sin(2*phi_R)\n",
    "    X[:,2] = np.cos(2*phi_R)\n",
    "    \n",
    "    X[:,3] = np.sin(2*phi_R + phi_S)\n",
    "    X[:,4] = np.cos(2*phi_R + phi_S)\n",
    "    \n",
    "    X[:,5] = np.sin(2*phi_R - phi_S)\n",
    "    X[:,6] = np.cos(2*phi_R - phi_S)\n",
    "    \n",
    "    X[:,7] = np.sin(2*phi_R + 2*phi_S)\n",
    "    X[:,8] = np.cos(2*phi_R + 2*phi_S)\n",
    "    \n",
    "    X[:,9] = np.sin(2*phi_R - 2*phi_S)\n",
    "    X[:,10] = np.cos(2*phi_R - 2*phi_S)\n",
    "    \n",
    "    \n",
    "    # perform OLS\n",
    "    varcov = np.linalg.inv(np.dot(X.T, X))  # inverted inner product of X\n",
    "    beta = np.dot(varcov, np.dot(X.T,delta_f))  # fitting parameters\n",
    "    \n",
    "    res = np.inner(beta.T, X) - delta_f  # residual\n",
    "    dres = np.std(res)  # standard deviation of the residual\n",
    "    \n",
    "    V_beta = dres * dres * varcov  # variance matrix of fitting parameters\n",
    "    sigma_beta = np.sqrt(np.diag(V_beta))  # standard deviation for fitting parameters\n",
    "    \n",
    "    # calculate the mean time for all these parameters\n",
    "    t_mean = np.mean(t)  # average time for the dataset\n",
    "    \n",
    "    # calculate the number of samples inside the dataset\n",
    "    N_sample = np.size(N)\n",
    "    \n",
    "    # packing all parameters in one vector\n",
    "    params = pd.DataFrame([[beta, sigma_beta, t_mean, N_sample]],columns=['beta','sigma','time','Nsamples'])\n",
    "    \n",
    "    return params\n",
    "    "
   ]
  },
  {
   "cell_type": "code",
   "execution_count": 5,
   "metadata": {
    "collapsed": true
   },
   "outputs": [],
   "source": [
    "def select_param(params_df, param):\n",
    "    \"\"\"\n",
    "    Given a params dataframe, select a certain param. Output the result as 2D narray\n",
    "    \"\"\"\n",
    "    param_df = params_df[param]  # choose a parameter\n",
    "    param_na = param_df.values  # change it to narray\n",
    "    param_na = np.array(param_na.tolist())  # change it to 2D narray (tricky part)\n",
    "    \n",
    "    return param_na"
   ]
  },
  {
   "cell_type": "markdown",
   "metadata": {},
   "source": [
    "# Function for Slicing dataset\n",
    "Slice the file into pieces. Do OLS in each piece. Visualize them in the end."
   ]
  },
  {
   "cell_type": "code",
   "execution_count": 22,
   "metadata": {},
   "outputs": [
    {
     "name": "stdout",
     "output_type": "stream",
     "text": [
      "CPU times: user 1min 26s, sys: 8.35 s, total: 1min 34s\n",
      "Wall time: 1min 21s\n"
     ]
    }
   ],
   "source": [
    "def ols_slicing(data_df,N_slice):\n",
    "    \"\"\"\n",
    "    input data_df contains the raw data.\n",
    "    N_slice is the number of subdata you want to have.\n",
    "    \n",
    "    output params that contains parameters for each subdata.\n",
    "    \"\"\"\n",
    "    \n",
    "    # slice \n",
    "    N_data = data_df.shape[0]\n",
    "    N_piece = int(N_data / N_slice)\n",
    "    params = pd.DataFrame()  # for storing params in each sub data\n",
    "\n",
    "    for i in range(N_slice):\n",
    "        # slicing each sub_data\n",
    "        start = i * N_piece\n",
    "        stop = (i+1) * N_piece\n",
    "        next_stop = (i+2) * N_piece\n",
    "        if next_stop > N_data:\n",
    "            sub_data_df = data_df[start:]\n",
    "        else:\n",
    "            sub_data_df = data_df[start:stop]\n",
    "\n",
    "        # do OLS on each sub_data\n",
    "        sub_data = sub_data_df.values  # change to numpy array\n",
    "        sub_param = OLS(sub_data)\n",
    "        params = pd.concat((params, sub_param))\n",
    "\n",
    "    params.reset_index(drop='True')\n",
    "    return params"
   ]
  },
  {
   "cell_type": "markdown",
   "metadata": {
    "collapsed": true
   },
   "source": [
    "# Visualizing Data"
   ]
  },
  {
   "cell_type": "markdown",
   "metadata": {},
   "source": [
    "## Parameter table\n",
    "|Parameter|A|$S_{2\\omega_R}$|$C_{2\\omega_R}$|$S_{2\\omega_R+\\omega_\\oplus}$|$C_{2\\omega_R+\\omega_\\oplus}$|$S_{2\\omega_R-\\omega_\\oplus}$|$C_{2\\omega_R-\\omega_\\oplus}$|$S_{2\\omega_R+2\\omega_\\oplus}$|$C_{2\\omega_R+2\\omega_\\oplus}$|$S_{2\\omega_R-2\\omega_\\oplus}$|$C_{2\\omega_R-2\\omega_\\oplus}$|\n",
    "|:-:|:-:|:-:|:-:|:-:|:-:|:-:|:-:|:-:|:-:|:-:|:-:|\n",
    "|$\\beta$|$\\beta_0$|$\\beta_1$|$\\beta_2$|$\\beta_3$|$\\beta_4$|$\\beta_5$|$\\beta_6$|$\\beta_7$|$\\beta_8$|$\\beta_9$|$\\beta_{10}$|\n",
    "|*index_vi*|0|1|2|3|4|5|6|7|8|9|10|\n",
    "As defined above, $\\beta$ is just another name for parameter $S_{...}$ or $C_{...}$. \n",
    "\n",
    "$\\beta$ is used in fitting, $S_{...}$ and $C_{...}$ are used in physics related equation."
   ]
  },
  {
   "cell_type": "markdown",
   "metadata": {},
   "source": [
    "## Initializing"
   ]
  },
  {
   "cell_type": "code",
   "execution_count": 23,
   "metadata": {
    "collapsed": true
   },
   "outputs": [],
   "source": [
    "index_vi = 2  # selecting a parameter to visualize\n",
    "\n",
    "label_dict = {'0': 'A', '1': '$S_{2\\omega_R}$', '2': '$C_{2\\omega_R}$',\n",
    "             '3': '$S_{2\\omega_R+\\omega_\\oplus}$', '4': '$C_{2\\omega_R+\\omega_\\oplus}$',\n",
    "             '5': '$S_{2\\omega_R-\\omega_\\oplus}$', '6': '$C_{2\\omega_R-\\omega_\\oplus}$',\n",
    "             '7': '$S_{2\\omega_R+2\\omega_\\oplus}$', '8': '$C_{2\\omega_R+2\\omega_\\oplus}$',\n",
    "             '9': '$S_{2\\omega_R-2\\omega_\\oplus}$', '10': '$C_{2\\omega_R-2\\omega_\\oplus}$'}  # for making ylabel\n",
    "\n",
    "# add a new column - 'day'\n",
    "params['day'] = params['time'] / (60 * 60 * 24)\n",
    "\n",
    "# extracting fitting parameters, beta, and their standard deviations, sigma \n",
    "day = select_param(params, 'day') \n",
    "beta = select_param(params, 'beta')\n",
    "sigma = select_param(params, 'sigma')\n",
    "\n",
    "# selecting one parameter to visualize\n",
    "beta_vi = beta[:, index_vi]\n",
    "sigma_vi = sigma[:, index_vi]"
   ]
  },
  {
   "cell_type": "markdown",
   "metadata": {},
   "source": [
    "# Writing selected parameters"
   ]
  },
  {
   "cell_type": "code",
   "execution_count": 24,
   "metadata": {
    "collapsed": true
   },
   "outputs": [],
   "source": [
    "# use DataFrame to write\n",
    "filename = './Data/OLS_slicing/OLS_slicing_para_index' + str(index_vi) + '.txt'\n",
    "df_write = pd.DataFrame({'para': beta_vi, 'std': sigma_vi, 'day': day})  # construct from a dictionary\n",
    "df_write.to_csv(filename, index_label='Index')"
   ]
  },
  {
   "cell_type": "markdown",
   "metadata": {},
   "source": [
    "## Plotting\n",
    "Visualize the selected parameter for each slices (subset). 'Days' on the horizontal axis is the solar day starts from the origin of the local sidereal frame.\n",
    "\n",
    "The data is not starting from Day 0. This is because:\n",
    "1. Time is averaged during the OLS fitting process\n",
    "2. Our experiment is not starting from the origin of the local sidereal frame.\n",
    "\n",
    "**Note: **You can change the *index_vi* value to see different parameters."
   ]
  },
  {
   "cell_type": "code",
   "execution_count": 25,
   "metadata": {},
   "outputs": [
    {
     "data": {
      "image/png": "[encoded data removed]",
      "text/plain": [
       "<matplotlib.figure.Figure at 0x7f1d98170cf8>"
      ]
     },
     "metadata": {},
     "output_type": "display_data"
    }
   ],
   "source": [
    "fig, ax = plt.subplots(figsize=(15,8))\n",
    "ax.errorbar(day, beta_vi, yerr=sigma_vi, ecolor='g', fmt='o')\n",
    "ax.set_xlabel('Days', fontsize=24)\n",
    "ax.set_xlim(left=0)  # starts from Day 0\n",
    "ax.set_ylabel(label_dict[str(index_vi)] + '(HZ)', fontsize=24)  # use created ylabel dictionary for display\n",
    "ax.tick_params(labelsize=24)\n",
    "\n",
    "# changing the format of the offset\n",
    "ax.yaxis.set_major_formatter(ScalarFormatter(useMathText=True))  \n",
    "t = ax.yaxis.get_offset_text()\n",
    "t.set_size(24)\n",
    "\n",
    "plt.show()"
   ]
  },
  {
   "cell_type": "markdown",
   "metadata": {},
   "source": [
    "# Sum up Slices\n",
    "we obtained value, $A_i$, and standard deviation, $\\sigma_i$ for each parameter. $i \\in$ [0, $N_S$) stands for different subsets. $N_S$ is the value of *Slices*. \n",
    "\n",
    "We can get a more accurate parameter {$A_{tot}$ and $\\sigma_{tot}$} by adding results from all subsets up.\n",
    "\\begin{align*}\n",
    "    \\frac{1}{\\sigma_{tot}^2} &= \\sum_{i}^{N_S}\\frac{1}{\\sigma_i^2}  \\\\\n",
    "    A_{tot} &= (\\sum_{i}^{N_S}\\frac{A_i}{\\sigma_i^2})\\sigma_{tot}^2\n",
    "\\end{align*}\n",
    "\n",
    "This method assumes that different subsets don't correlate to each other (measurement result doesn't depend on each other)."
   ]
  },
  {
   "cell_type": "markdown",
   "metadata": {},
   "source": [
    "## Class *var*\n",
    "Because these parameters need to be treated differently than the normal scaler. I developed a *var* class for easy handling variables with value and standard deviation.\n",
    "\n",
    "Objects belong to *var* class would have different rules of calculation. They are defined below:\n",
    "\n",
    "For variable $X_1$ and $X_2$. Their value and standard deviation are $x_1$, $x_2$, $\\sigma_1$, and $\\sigma_2$. Their addition, $X = X_1 + X_2$, follows:\n",
    "\\begin{align*}\n",
    "\\frac{1}{\\sigma^2} &= \\frac{1}{\\sigma^2_1} + \\frac{1}{\\sigma^2_2} \\\\\n",
    "x &= (\\frac{x_1}{\\sigma_1^2} + \\frac{x_2}{\\sigma_2^2})\\sigma^2\n",
    "\\end{align*}\n",
    "\n",
    "For a variable $X$ times a constant $a$, resulting new variable $X'$:\n",
    "\\begin{align*}\n",
    "x' &= ax\\\\\n",
    "\\sigma' &= |a|\\sigma\n",
    "\\end{align*}"
   ]
  },
  {
   "cell_type": "code",
   "execution_count": 26,
   "metadata": {
    "collapsed": true
   },
   "outputs": [],
   "source": [
    "class var():\n",
    "    \"\"\"\n",
    "    This class is for calculating the addition between variables with standard deviation, sigma.\n",
    "    Bug: couldn't perform division. To divide a constant, please multiply its inverse. \n",
    "    Also the multiplication between variables is not supported. We don't need them.\n",
    "    \"\"\"\n",
    "    def __init__(self, value, sigma):\n",
    "        self.value = value\n",
    "        self.sigma = sigma\n",
    "        \n",
    "    def __add__(self, other):\n",
    "        if isinstance(other, var):\n",
    "            sum_sigma = 1 / (np.sqrt(1 / self.sigma**2 + 1 / other.sigma**2))\n",
    "            sum_value = (self.value / self.sigma**2 + other.value / other.sigma**2) * sum_sigma**2\n",
    "            return var(sum_value, sum_sigma)\n",
    "        else:\n",
    "            print('Operation not supported!')\n",
    "            return None\n",
    "        \n",
    "    def __sub__(self, other):\n",
    "        sub_other = var(-other.value, other.sigma)\n",
    "        \n",
    "        return self.__add__(sub_other)\n",
    "    def __mul__(self, other):\n",
    "        if isinstance(other, (int, float)):  # if multiplied by a scalar\n",
    "            return var(self.value * other, self.sigma * abs(other))\n",
    "        else:\n",
    "            print('Operation not supported!')\n",
    "            return None\n",
    "        \n",
    "    def __turediv__(self, other):  # devision doesn't work\n",
    "        return __mul__(self, 1 / other)\n",
    "    \n",
    "    __rmul__ = __mul__  # reverse multiply still holds\n",
    "            "
   ]
  },
  {
   "cell_type": "markdown",
   "metadata": {},
   "source": [
    "*param_sum* is used to stored the summed up result. It's a vector with length of the number of parameters. One position stores one parameter.\n"
   ]
  },
  {
   "cell_type": "code",
   "execution_count": 19,
   "metadata": {
    "collapsed": true
   },
   "outputs": [],
   "source": [
    "# initialization\n",
    "N_params = beta.shape[1]  # number of fitting parameters\n",
    "param_sum = [None] * N_params  # for storing the summed up result\n",
    "\n",
    "for i in range(N_params):\n",
    "    # for parameter i\n",
    "    beta_i = beta[:, i]  # vector contains all sub-results from subsets for parameter i\n",
    "    sigma_i = sigma[:, i]\n",
    "    # sum different pieces of one parameter up (with sigma)\n",
    "    param_sum[i] = var(beta_i[0], sigma_i[0]) # create a var object and assign it to param_sum[i] as the initial value\n",
    "    for j in range(1, beta_i.shape[0]):  # summing up at param_sum[i]\n",
    "        param_sum[i] = param_sum[i] + var(beta_i[j], sigma_i[j])  # adding using var object"
   ]
  },
  {
   "cell_type": "code",
   "execution_count": 20,
   "metadata": {},
   "outputs": [
    {
     "data": {
      "text/plain": [
       "2.0946830073703998e-14"
      ]
     },
     "execution_count": 20,
     "metadata": {},
     "output_type": "execute_result"
    }
   ],
   "source": [
    "param_sum[2].sigma"
   ]
  },
  {
   "cell_type": "markdown",
   "metadata": {},
   "source": [
    "# Calculate EMS coefficients\n",
    "## parameter index table\n",
    "|*param_sum*|A|$S_{2\\omega_R}$|$C_{2\\omega_R}$|$S_{2\\omega_R+\\omega_\\oplus}$|$C_{2\\omega_R+\\omega_\\oplus}$|$S_{2\\omega_R-\\omega_\\oplus}$|$C_{2\\omega_R-\\omega_\\oplus}$|$S_{2\\omega_R+2\\omega_\\oplus}$|$C_{2\\omega_R+2\\omega_\\oplus}$|$S_{2\\omega_R-2\\omega_\\oplus}$|$C_{2\\omega_R-2\\omega_\\oplus}$|\n",
    "|:-:|\n",
    "|*i*|0|1|2|3|4|5|6|7|8|9|10|\n",
    "\n",
    "Please refer to Francis's notebook for the fomular to calculate EMS coefficients from these parameters."
   ]
  },
  {
   "cell_type": "code",
   "execution_count": 21,
   "metadata": {
    "collapsed": true
   },
   "outputs": [],
   "source": [
    "X = 58.014 * 2 * np.pi / 360  # colatitude of the laborotory (radius)\n",
    "sin_X = np.sin(X)\n",
    "cos_X = np.cos(X)\n",
    "\n",
    "# calculate the coefficients of EMS\n",
    "c_T_Q =  1 / (-4 * sin_X**2) * param_sum[2]\n",
    "c_T_X_1 = 1 / (-4 * (1 + cos_X) * sin_X) * param_sum[3]\n",
    "c_T_X_2 = 1 / (4 * (cos_X - 1) * sin_X) * param_sum[5]\n",
    "c_T_Y_1 = 1 / (-4 * (1 + cos_X) * sin_X) * param_sum[4]\n",
    "c_T_Y_2 = 1 / (4 * (cos_X - 1) * sin_X) * param_sum[6]\n",
    "c_T_Z = 1 / (2 * (1 + cos_X)**2) * param_sum[7]\n",
    "c_T_M = 1 / (2 * (cos_X - 1)**2) * param_sum[10]\n",
    "c_T_u = 1 / (2 * (1 + cos_X)**2) * param_sum[8]\n",
    "\n",
    "c_T_X = c_T_X_1 + c_T_X_2\n",
    "c_T_Y = c_T_Y_1 + c_T_Y_2\n",
    "\n",
    "# for display\n",
    "c_T_Q_value = str(round(c_T_Q.value,17))\n",
    "c_T_Q_sigma = str(round(c_T_Q.sigma,17))\n",
    "c_T_X_value = str(round(c_T_X.value,17))\n",
    "c_T_X_sigma = str(round(c_T_X.sigma,17))\n",
    "c_T_Y_value = str(round(c_T_Y.value,17))\n",
    "c_T_Y_sigma = str(round(c_T_Y.sigma,17))\n",
    "c_T_Z_value = str(round(c_T_Z.value,17))\n",
    "c_T_Z_sigma = str(round(c_T_Z.sigma,17))\n",
    "c_T_M_value = str(round(c_T_M.value,17))\n",
    "c_T_M_sigma = str(round(c_T_M.sigma,17))\n",
    "c_T_u_value = str(round(c_T_u.value,17))\n",
    "c_T_u_sigma = str(round(c_T_u.sigma,17))"
   ]
  },
  {
   "cell_type": "markdown",
   "metadata": {
    "variables": {
     "c_T_M_sigma": "4.731e-14",
     "c_T_M_value": "-5.64e-15",
     "c_T_Q_sigma": "7.28e-15",
     "c_T_Q_value": "2.21e-15",
     "c_T_X_sigma": "3.86e-15",
     "c_T_X_value": "-1.49e-15",
     "c_T_Y_sigma": "3.86e-15",
     "c_T_Y_value": "4.6e-16",
     "c_T_Z_sigma": "4.47e-15",
     "c_T_Z_value": "-2.32e-15",
     "c_T_u_sigma": "4.47e-15",
     "c_T_u_value": "-7.2e-16"
    }
   },
   "source": [
    "| EMS coefficient | result |\n",
    "| :- | :- |\n",
    "| $c^T_Q$ | {{c_T_Q_value}}$\\pm${{c_T_Q_sigma}} |\n",
    "| $c^T_Y$ | {{c_T_X_value}}$\\pm${{c_T_X_sigma}} |\n",
    "| $c^T_X$ | {{c_T_Y_value}}$\\pm${{c_T_Y_sigma}} |\n",
    "| $c^T_Z$ | {{c_T_Z_value}}$\\pm${{c_T_Z_sigma}} |\n",
    "| $c^T_M$ | {{c_T_M_value}}$\\pm${{c_T_M_sigma}} |\n",
    "| $c^T_\\_$ | {{c_T_u_value}}$\\pm${{c_T_u_sigma}} |\n",
    "\n"
   ]
  },
  {
   "cell_type": "code",
   "execution_count": null,
   "metadata": {
    "collapsed": true
   },
   "outputs": [],
   "source": []
  }
 ],
 "metadata": {
  "anaconda-cloud": {},
  "kernelspec": {
   "display_name": "Python [default]",
   "language": "python",
   "name": "python3"
  },
  "language_info": {
   "codemirror_mode": {
    "name": "ipython",
    "version": 3
   },
   "file_extension": ".py",
   "mimetype": "text/x-python",
   "name": "python",
   "nbconvert_exporter": "python",
   "pygments_lexer": "ipython3",
   "version": "3.5.2"
  },
  "latex_envs": {
   "LaTeX_envs_menu_present": true,
   "autocomplete": false,
   "bibliofile": "biblio.bib",
   "cite_by": "apalike",
   "current_citInitial": 1,
   "eqLabelWithNumbers": true,
   "eqNumInitial": 1,
   "hotkeys": {
    "equation": "Ctrl-E",
    "itemize": "Ctrl-I"
   },
   "labels_anchors": false,
   "latex_user_defs": false,
   "report_style_numbering": false,
   "user_envs_cfg": false
  }
 },
 "nbformat": 4,
 "nbformat_minor": 2
}

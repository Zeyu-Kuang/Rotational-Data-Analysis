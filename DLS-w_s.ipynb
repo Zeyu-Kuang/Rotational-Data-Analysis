{
 "cells": [
  {
   "cell_type": "code",
   "execution_count": 1,
   "metadata": {
    "collapsed": true
   },
   "outputs": [],
   "source": [
    "# Using DLS method to analyse rotation data"
   ]
  },
  {
   "cell_type": "code",
   "execution_count": 70,
   "metadata": {
    "collapsed": true
   },
   "outputs": [],
   "source": [
    "# import necassary functions\n",
    "from tools.dls import *\n",
    "from matplotlib.ticker import ScalarFormatter"
   ]
  },
  {
   "cell_type": "markdown",
   "metadata": {},
   "source": [
    "## Data Set\n",
    "Choose a data set to calculate the DLS coefficients "
   ]
  },
  {
   "cell_type": "code",
   "execution_count": 95,
   "metadata": {
    "collapsed": true
   },
   "outputs": [],
   "source": [
    "data_df = quick_read(11)\n",
    "data_na = data_df.values  # data in narray datatype"
   ]
  },
  {
   "cell_type": "markdown",
   "metadata": {},
   "source": [
    "# Perform DLS1\n",
    "Use data read just above and a specified number for the subset rotation to demodulate."
   ]
  },
  {
   "cell_type": "code",
   "execution_count": 96,
   "metadata": {},
   "outputs": [
    {
     "name": "stderr",
     "output_type": "stream",
     "text": [
      "100% |########################################################################|\n"
     ]
    },
    {
     "name": "stdout",
     "output_type": "stream",
     "text": [
      "CPU times: user 38min 10s, sys: 376 ms, total: 38min 10s\n",
      "Wall time: 38min 10s\n"
     ]
    }
   ],
   "source": [
    "%%time\n",
    "subset_rot = 10\n",
    "params_df = DLS1(data_na, subset_rot)"
   ]
  },
  {
   "cell_type": "markdown",
   "metadata": {},
   "source": [
    "### Writting parameters\n",
    "write some parameters in .\\Data\\DLS1\\ "
   ]
  },
  {
   "cell_type": "code",
   "execution_count": 103,
   "metadata": {
    "collapsed": true
   },
   "outputs": [],
   "source": [
    "write_dict = {'time': t_m, 'beta_3': beta_3, 'beta_4': beta_4, 'sigma_3': sigma_beta_3, 'sigma_4': sigma_beta_4}\n",
    "write_df = pd.DataFrame(write_dict)\n",
    "write_df.to_csv('./Data/DLS1/DLS1_data.txt', index=False)"
   ]
  },
  {
   "cell_type": "markdown",
   "metadata": {},
   "source": [
    "### DLS2: Calculate SME coefficients\n",
    "As a function of different w_s.\n",
    "Results are stored in *C*."
   ]
  },
  {
   "cell_type": "code",
   "execution_count": 104,
   "metadata": {
    "scrolled": false
   },
   "outputs": [
    {
     "name": "stdout",
     "output_type": "stream",
     "text": [
      "CPU times: user 9.55 s, sys: 8 ms, total: 9.56 s\n",
      "Wall time: 9.3 s\n"
     ]
    }
   ],
   "source": [
    "%%time\n",
    "\n",
    "w_s = 2 * np.pi / (23*3600 + 56*60 + 4)  # sidereal frequency\n",
    "w_s_list = list(np.arange(0.1, 10, 0.3))\n",
    "N_w = len(w_s_list)\n",
    "C = [None] * N_w  # store coefficient for each w_s\n",
    "\n",
    "\n",
    "for i in range(N_w):\n",
    "    C[i] = DLS2(params_df, w_s_list[i] * w_s, par=1)  # output a list contains two dictionary (one for the value of each coefficient, one for std)"
   ]
  },
  {
   "cell_type": "markdown",
   "metadata": {},
   "source": [
    "# Extracting Parameters and Coefficients"
   ]
  },
  {
   "cell_type": "code",
   "execution_count": 105,
   "metadata": {
    "collapsed": true
   },
   "outputs": [],
   "source": [
    "par_values_df = pd.DataFrame()\n",
    "par_sigmas_df = pd.DataFrame()\n",
    "co_values_df = pd.DataFrame()\n",
    "co_sigmas_df = pd.DataFrame()\n",
    "\n",
    "for i in range(N_w):\n",
    "    co_value_df = pd.DataFrame(C[i][0], index=[str(i)])\n",
    "    co_sigma_df = pd.DataFrame(C[i][1], index=[str(i)])\n",
    "    par_value_df = pd.DataFrame(C[i][2], index=[str(i)])\n",
    "    par_sigma_df = pd.DataFrame(C[i][3], index=[str(i)])\n",
    "    \n",
    "    co_values_df = pd.concat([co_values_df, co_value_df])\n",
    "    co_sigmas_df = pd.concat([co_sigmas_df, co_sigma_df])\n",
    "    par_values_df = pd.concat([par_values_df, par_value_df])\n",
    "    par_sigmas_df = pd.concat([par_sigmas_df, par_sigma_df])\n",
    "\n",
    "# create dataframe for w_s_list for I/O\n",
    "w_s_list_df = pd.DataFrame({'w_s:': w_s_list})"
   ]
  },
  {
   "cell_type": "markdown",
   "metadata": {},
   "source": [
    "## Writing "
   ]
  },
  {
   "cell_type": "code",
   "execution_count": 106,
   "metadata": {
    "collapsed": true
   },
   "outputs": [],
   "source": [
    "pathname = './Data/DLS-w_s/'\n",
    "\n",
    "co_value_filename = 'SME_coefficients_value.txt'\n",
    "co_sigma_filename = 'SME_coefficients_sigma.txt'\n",
    "par_value_filename = 'DLS2_parameters_value.txt'\n",
    "par_sigma_filename = 'DLS2_parameters_sigma.txt'\n",
    "w_s_list_filename = 'w_s_list.txt'\n",
    "\n",
    "co_values_df.to_csv(pathname + co_value_filename, index_label='Index')\n",
    "co_sigmas_df.to_csv(pathname + co_sigma_filename, index_label='Index')\n",
    "par_values_df.to_csv(pathname + par_value_filename, index_label='Index')\n",
    "par_sigmas_df.to_csv(pathname + par_sigma_filename, index_label='Index')\n",
    "\n",
    "w_s_list_df.to_csv(pathname + w_s_list_filename, index_label='Index')"
   ]
  },
  {
   "cell_type": "markdown",
   "metadata": {},
   "source": [
    "## Reading"
   ]
  },
  {
   "cell_type": "code",
   "execution_count": 107,
   "metadata": {
    "collapsed": true
   },
   "outputs": [],
   "source": [
    "pathname = './Data/DLS-w_s/'\n",
    "\n",
    "co_value_filename = 'SME_coefficients_value.txt'\n",
    "co_sigma_filename = 'SME_coefficients_sigma.txt'\n",
    "par_value_filename = 'DLS2_parameters_value.txt'\n",
    "par_sigma_filename = 'DLS2_parameters_sigma.txt'\n",
    "w_s_list_filename = 'w_s_list.txt'\n",
    "\n",
    "co_values_df = pd.read_csv(pathname + co_value_filename, index_col='Index')\n",
    "co_sigmas_df = pd.read_csv(pathname + co_sigma_filename, index_col='Index')\n",
    "par_values_df = pd.read_csv(pathname + par_value_filename, index_col='Index')\n",
    "par_sigmas_df = pd.read_csv(pathname + par_sigma_filename, index_col='Index')\n",
    "w_s_list_df = pd.read_csv(pathname + w_s_list_filename, index_col='Index')\n",
    "\n",
    "w_s_list = w_s_list_df.values\n",
    "N_w = len(w_s_list)"
   ]
  },
  {
   "cell_type": "markdown",
   "metadata": {},
   "source": [
    "# Visualizing result\n",
    "## Parameter index table\n",
    "|Coefficient|$S_{C,0}$|$S_{S,\\omega_s}$|$S_{C,\\omega_s}$|$S_{S,2\\omega_s}$|$S_{C,2\\omega_s}$|$C_{C,0}$|$C_{S,\\omega_s}$|$C_{C,\\omega_s}$|$C_{S,2\\omega_s}$|$C_{C,2\\omega_s}$|\n",
    "|:-:|\n",
    "|*index*|0|1|2|3|4|5|6|7|8|9|\n"
   ]
  },
  {
   "cell_type": "code",
   "execution_count": 108,
   "metadata": {
    "collapsed": true
   },
   "outputs": [],
   "source": [
    "index = 8\n",
    "par_dict = {'0': 'S_c_0', '1': 'S_s_ws','2': 'S_c_ws','3': 'S_s_2ws','4': 'S_c_2ws',\n",
    "           '5': 'C_c_0', '6': 'C_s_ws','7': 'C_c_ws','8': 'C_s_2ws','9': 'C_c_2ws'}  # for selecting coefficient in another dictionary\n",
    "par_index = par_dict[str(index)]\n",
    "ylabel_dict = {'0': '$S_{c,0}$', '1': '$S_{s,\\omega_s}$','2': '$S_{c,\\omega_s}$','3': '$S_{s,2\\omega_s}$','4': '$S_{c,2\\omega_s}$',\n",
    "           '5': '$C_{c,0}$', '6': '$C_{s,\\omega_s}$','7': '$C_{c,\\omega_s}$','8': '$C_{s,2\\omega_s}$','9': '$C_{c,2\\omega_s}$'}  # for displaying on y label\n",
    "par_ylabel = ylabel_dict[str(index)]\n",
    "\n",
    "par_value = par_values_df[par_index].values\n",
    "par_sigma = par_sigmas_df[par_index].values"
   ]
  },
  {
   "cell_type": "markdown",
   "metadata": {},
   "source": [
    "# Plotting Parameters"
   ]
  },
  {
   "cell_type": "code",
   "execution_count": 109,
   "metadata": {},
   "outputs": [
    {
     "data": {
      "image/png": "[encoded data removed]",
      "text/plain": [
       "<matplotlib.figure.Figure at 0x7f817845e898>"
      ]
     },
     "metadata": {},
     "output_type": "display_data"
    }
   ],
   "source": [
    "fig, ax = plt.subplots(figsize=(15,8))\n",
    "ax.errorbar(w_s_list, par_value, yerr=par_sigma, fmt='o')\n",
    "ax.plot(w_s_list, [0]*N_w, '--')  # add a zero line\n",
    "ax.set_xlabel(r'$\\frac{\\omega}{\\omega_s}$', fontsize=24)\n",
    "ax.set_ylabel(par_ylabel, fontsize=24)\n",
    "ax.tick_params(labelsize=24)\n",
    "ax.set_xlim(left=0)\n",
    "ax.set_title('run 10', fontsize=24)\n",
    "\n",
    "# changing the format of the offset\n",
    "ax.yaxis.set_major_formatter(ScalarFormatter(useMathText=True))  \n",
    "t = ax.yaxis.get_offset_text()\n",
    "t.set_size(24)\n",
    "\n",
    "plt.show()"
   ]
  },
  {
   "cell_type": "markdown",
   "metadata": {},
   "source": [
    "## Coefficient index table\n",
    "|Coefficient|$c^T_Q$|$c^T_X$|$c^T_Y$|$c^T_Z$|$c^T_M$|$c^T_\\_$|\n",
    "|:-:|\n",
    "|*index*|0|1|2|3|4|5|\n"
   ]
  },
  {
   "cell_type": "code",
   "execution_count": 88,
   "metadata": {
    "collapsed": true
   },
   "outputs": [],
   "source": [
    "index = 1\n",
    "co_dict = {'0': 'c_T_Q', '1': 'c_T_X','2': 'c_T_Y','3': 'c_T_Z','4': 'c_T_M','5': 'c_T_u'}  # for selecting coefficient in another dictionary\n",
    "co_index = co_dict[str(index)]\n",
    "ylabel_dict = {'0': '$c^T_Q$', '1': '$c^T_X$','2': '$c^T_Y$','3': '$c^T_Z$','4': '$c^T_M$','5': '$c^T_\\_$'}  # for displaying on y label\n",
    "co_ylabel = ylabel_dict[str(index)]\n",
    "\n",
    "co_value = co_values_df[co_index].values\n",
    "co_sigma = co_sigmas_df[co_index].values"
   ]
  },
  {
   "cell_type": "markdown",
   "metadata": {},
   "source": [
    "# Plotting"
   ]
  },
  {
   "cell_type": "code",
   "execution_count": 89,
   "metadata": {},
   "outputs": [
    {
     "data": {
      "image/png": "[encoded data removed]",
      "text/plain": [
       "<matplotlib.figure.Figure at 0x7f8177a96cc0>"
      ]
     },
     "metadata": {},
     "output_type": "display_data"
    }
   ],
   "source": [
    "fig, ax = plt.subplots(figsize=(15,8))\n",
    "ax.errorbar(w_s_list, co_value, yerr=co_sigma, fmt='o')\n",
    "ax.plot(w_s_list, [0]*N_w, '--')  # add a zero line\n",
    "ax.set_xlabel(r'$\\frac{\\omega}{\\omega_s}$', fontsize=24)\n",
    "ax.set_ylabel(co_ylabel, fontsize=24)\n",
    "ax.tick_params(labelsize=24)\n",
    "ax.set_xlim(left=0)\n",
    "\n",
    "# changing the format of the offset\n",
    "ax.yaxis.set_major_formatter(ScalarFormatter(useMathText=True))  \n",
    "t = ax.yaxis.get_offset_text()\n",
    "t.set_size(24)\n",
    "\n",
    "plt.show()"
   ]
  },
  {
   "cell_type": "code",
   "execution_count": null,
   "metadata": {
    "collapsed": true
   },
   "outputs": [],
   "source": []
  },
  {
   "cell_type": "code",
   "execution_count": null,
   "metadata": {
    "collapsed": true
   },
   "outputs": [],
   "source": []
  }
 ],
 "metadata": {
  "anaconda-cloud": {},
  "kernelspec": {
   "display_name": "Python [conda root]",
   "language": "python",
   "name": "conda-root-py"
  },
  "language_info": {
   "codemirror_mode": {
    "name": "ipython",
    "version": 3
   },
   "file_extension": ".py",
   "mimetype": "text/x-python",
   "name": "python",
   "nbconvert_exporter": "python",
   "pygments_lexer": "ipython3",
   "version": "3.5.2"
  },
  "latex_envs": {
   "LaTeX_envs_menu_present": true,
   "autocomplete": true,
   "bibliofile": "biblio.bib",
   "cite_by": "apalike",
   "current_citInitial": 1,
   "eqLabelWithNumbers": true,
   "eqNumInitial": 1,
   "hotkeys": {
    "equation": "Ctrl-E",
    "itemize": "Ctrl-I"
   },
   "labels_anchors": false,
   "latex_user_defs": false,
   "report_style_numbering": false,
   "user_envs_cfg": false
  }
 },
 "nbformat": 4,
 "nbformat_minor": 2
}
